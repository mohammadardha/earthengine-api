{
  "nbformat": 4,
  "nbformat_minor": 0,
  "metadata": {
    "colab": {
      "name": "Regression_Analysis.ipynb",
      "provenance": [],
      "collapsed_sections": [],
      "include_colab_link": true
    },
    "kernelspec": {
      "name": "python3",
      "display_name": "Python 3"
    }
  },
  "cells": [
    {
      "cell_type": "markdown",
      "metadata": {
        "id": "view-in-github",
        "colab_type": "text"
      },
      "source": [
        "<a href=\"https://colab.research.google.com/github/mohammadardha/earthengine-api/blob/master/Regression_Analysis.ipynb\" target=\"_parent\"><img src=\"https://colab.research.google.com/assets/colab-badge.svg\" alt=\"Open In Colab\"/></a>"
      ]
    },
    {
      "cell_type": "code",
      "metadata": {
        "id": "UwQQtrSF780D"
      },
      "source": [
        "!pip install rasterio\n",
        "!pip install ipygee\n",
        "!pip install tslearn\n",
        "!pip install earthengine-api\n",
        "!pip install geopandas"
      ],
      "execution_count": null,
      "outputs": []
    },
    {
      "cell_type": "code",
      "metadata": {
        "id": "LzLAFy1s8Hou"
      },
      "source": [
        "import ee\n",
        "ee.Authenticate()\n",
        "ee.Initialize()"
      ],
      "execution_count": null,
      "outputs": []
    },
    {
      "cell_type": "code",
      "metadata": {
        "id": "czAWx7I78KEs",
        "outputId": "821912ad-272d-4301-b1d7-c69ba8718d62",
        "colab": {
          "base_uri": "https://localhost:8080/",
          "height": 34
        }
      },
      "source": [
        "# Folium setup.\n",
        "import folium\n",
        "from folium import plugins\n",
        "from IPython.display import Image\n",
        "import geopandas as gpd\n",
        "import json\n",
        "print(folium.__version__)\n",
        "from ipygee import*\n",
        "import pandas as pd\n",
        "import numpy as np\n",
        "from sklearn.model_selection import train_test_split \n",
        "from sklearn.linear_model import LinearRegression, HuberRegressor, Ridge, SGDRegressor\n",
        "from sklearn.preprocessing import PolynomialFeatures\n",
        "from sklearn.preprocessing import StandardScaler\n",
        "from sklearn import metrics\n",
        "from sklearn.svm import SVR\n",
        "from sklearn.tree import DecisionTreeRegressor\n",
        "from sklearn.ensemble import RandomForestRegressor\n",
        "from sklearn.ensemble import GradientBoostingRegressor\n",
        "import matplotlib.pyplot as plt  \n",
        "import seaborn as sns"
      ],
      "execution_count": null,
      "outputs": [
        {
          "output_type": "stream",
          "text": [
            "0.8.3\n"
          ],
          "name": "stdout"
        }
      ]
    },
    {
      "cell_type": "code",
      "metadata": {
        "id": "fWvNOctR9I6i"
      },
      "source": [
        "AOI = ee.FeatureCollection(\"users/anisa/shp-per-pulau/PulauJawa\")"
      ],
      "execution_count": null,
      "outputs": []
    },
    {
      "cell_type": "code",
      "metadata": {
        "id": "8TizQz-7LvkM",
        "outputId": "09e467a8-e254-4ea0-ab4f-54e347fa6379",
        "colab": {
          "base_uri": "https://localhost:8080/",
          "height": 235
        }
      },
      "source": [
        "samples = ee.FeatureCollection(\n",
        "        [ee.Feature(\n",
        "            ee.Geometry.Point([-52.22498595583074, -21.023063098218522]),\n",
        "            {\n",
        "              \"system:index\": \"0\"\n",
        "            }),\n",
        "        ee.Feature(\n",
        "            ee.Geometry.Point([-52.25073516237371, -21.00864125751404]),\n",
        "            {\n",
        "              \"system:index\": \"1\"\n",
        "            }),\n",
        "        ee.Feature(\n",
        "            ee.Geometry.Point([-52.230822442647145, -21.033317780716285]),\n",
        "            {\n",
        "              \"system:index\": \"2\"\n",
        "            }),\n",
        "        ee.Feature(\n",
        "            ee.Geometry.Point([-52.24695861208074, -21.06696099934238]),\n",
        "            {\n",
        "              \"system:index\": \"3\"\n",
        "            }),\n",
        "        ee.Feature(\n",
        "            ee.Geometry.Point([-52.26343810426824, -21.031074629212196]),\n",
        "            {\n",
        "              \"system:index\": \"4\"\n",
        "            }),\n",
        "        ee.Feature(\n",
        "            ee.Geometry.Point([-52.2613781677448, -21.01569210943256]),\n",
        "            {\n",
        "              \"system:index\": \"5\"\n",
        "            }),\n",
        "        ee.Feature(\n",
        "            ee.Geometry.Point([-52.33656585085027, -20.95671109236073]),\n",
        "            {\n",
        "              \"system:index\": \"6\"\n",
        "            }),\n",
        "        ee.Feature(\n",
        "            ee.Geometry.Point([-52.35201537477605, -20.941320912027972]),\n",
        "            {\n",
        "              \"system:index\": \"7\"\n",
        "            }),\n",
        "        ee.Feature(\n",
        "            ee.Geometry.Point([-52.40626036989324, -20.91502569431259]),\n",
        "            {\n",
        "              \"system:index\": \"8\"\n",
        "            }),\n",
        "        ee.Feature(\n",
        "            ee.Geometry.Point([-52.43029296266668, -20.925929149515145]),\n",
        "            {\n",
        "              \"system:index\": \"9\"\n",
        "            }),\n",
        "        ee.Feature(\n",
        "            ee.Geometry.Point([-52.459818719502614, -20.92079821057918]),\n",
        "            {\n",
        "              \"system:index\": \"10\"\n",
        "            }),\n",
        "        ee.Feature(\n",
        "            ee.Geometry.Point([-52.48694121706121, -20.91406358665759]),\n",
        "            {\n",
        "              \"system:index\": \"11\"\n",
        "            }),\n",
        "        ee.Feature(\n",
        "            ee.Geometry.Point([-52.42102324831121, -21.059912573708093]),\n",
        "            {\n",
        "              \"system:index\": \"12\"\n",
        "            }),\n",
        "        ee.Feature(\n",
        "            ee.Geometry.Point([-52.340685723897145, -21.051582185665765]),\n",
        "            {\n",
        "              \"system:index\": \"13\"\n",
        "            }),\n",
        "        ee.Feature(\n",
        "            ee.Geometry.Point([-52.21399962770574, -20.935228528502524]),\n",
        "            {\n",
        "              \"system:index\": \"14\"\n",
        "            }),\n",
        "        ee.Feature(\n",
        "            ee.Geometry.Point([-52.20781981813543, -20.911497936061707]),\n",
        "            {\n",
        "              \"system:index\": \"15\"\n",
        "            }),\n",
        "        ee.Feature(\n",
        "            ee.Geometry.Point([-52.241808770772145, -20.903479995030743]),\n",
        "            {\n",
        "              \"system:index\": \"16\"\n",
        "            }),\n",
        "        ee.Feature(\n",
        "            ee.Geometry.Point([-52.25451171266668, -20.884235188282084]),\n",
        "            {\n",
        "              \"system:index\": \"17\"\n",
        "            }),\n",
        "        ee.Feature(\n",
        "            ee.Geometry.Point([-52.23494231569402, -21.144471618006524]),\n",
        "            {\n",
        "              \"system:index\": \"18\"\n",
        "            }),\n",
        "        ee.Feature(\n",
        "            ee.Geometry.Point([-52.131945489522145, -21.010564250180387]),\n",
        "            {\n",
        "              \"system:index\": \"19\"\n",
        "            }),\n",
        "        ee.Feature(\n",
        "            ee.Geometry.Point([-52.03924834596746, -20.995820673066977]),\n",
        "            {\n",
        "              \"system:index\": \"20\"\n",
        "            }),\n",
        "        ee.Feature(\n",
        "            ee.Geometry.Point([-51.98294341432683, -20.903479995030743]),\n",
        "            {\n",
        "              \"system:index\": \"21\"\n",
        "            }),\n",
        "        ee.Feature(\n",
        "            ee.Geometry.Point([-51.94723784792058, -20.84702156919366]),\n",
        "            {\n",
        "              \"system:index\": \"22\"\n",
        "            }),\n",
        "        ee.Feature(\n",
        "            ee.Geometry.Point([-51.917712091084645, -20.838037591656004]),\n",
        "            {\n",
        "              \"system:index\": \"23\"\n",
        "            }),\n",
        "        ee.Feature(\n",
        "            ee.Geometry.Point([-51.939684747334645, -20.92464643125095]),\n",
        "            {\n",
        "              \"system:index\": \"24\"\n",
        "            }),\n",
        "        ee.Feature(\n",
        "            ee.Geometry.Point([-51.90741240846746, -20.957352315525075]),\n",
        "            {\n",
        "              \"system:index\": \"25\"\n",
        "            }),\n",
        "        ee.Feature(\n",
        "            ee.Geometry.Point([-51.87514006960027, -20.91438428989525]),\n",
        "            {\n",
        "              \"system:index\": \"26\"\n",
        "            }),\n",
        "        ee.Feature(\n",
        "            ee.Geometry.Point([-51.862780450459645, -20.89963123110268]),\n",
        "            {\n",
        "              \"system:index\": \"27\"\n",
        "            }),\n",
        "        ee.Feature(\n",
        "            ee.Geometry.Point([-51.829821466084645, -20.87140394663634]),\n",
        "            {\n",
        "              \"system:index\": \"28\"\n",
        "            }),\n",
        "        ee.Feature(\n",
        "            ee.Geometry.Point([-51.82501494752996, -20.850871681087703]),\n",
        "            {\n",
        "              \"system:index\": \"29\"\n",
        "            }),\n",
        "        ee.Feature(\n",
        "            ee.Geometry.Point([-51.81402861940496, -20.89193340708438]),\n",
        "            {\n",
        "              \"system:index\": \"30\"\n",
        "            }),\n",
        "        ee.Feature(\n",
        "            ee.Geometry.Point([-51.794115899678395, -20.877178141007942]),\n",
        "            {\n",
        "              \"system:index\": \"31\"\n",
        "            }),\n",
        "        ee.Feature(\n",
        "            ee.Geometry.Point([-51.824328302022145, -20.95671109236073]),\n",
        "            {\n",
        "              \"system:index\": \"32\"\n",
        "            }),\n",
        "        ee.Feature(\n",
        "            ee.Geometry.Point([-51.91359221803777, -21.081056848549906]),\n",
        "            {\n",
        "              \"system:index\": \"33\"\n",
        "            }),\n",
        "        ee.Feature(\n",
        "            ee.Geometry.Point([-51.90191924440496, -21.07657195057746]),\n",
        "            {\n",
        "              \"system:index\": \"34\"\n",
        "            }),\n",
        "        ee.Feature(\n",
        "            ee.Geometry.Point([-52.09280669557683, -21.134224602924093]),\n",
        "            {\n",
        "              \"system:index\": \"35\"\n",
        "            }),\n",
        "        ee.Feature(\n",
        "            ee.Geometry.Point([-52.26309478151433, -21.22130162098234]),\n",
        "            {\n",
        "              \"system:index\": \"36\"\n",
        "            }),\n",
        "        ee.Feature(\n",
        "            ee.Geometry.Point([-52.38875090944402, -20.83867932212207]),\n",
        "            {\n",
        "              \"system:index\": \"37\"\n",
        "            }),\n",
        "        ee.Feature(\n",
        "            ee.Geometry.Point([-52.22395598756902, -21.393383426221565]),\n",
        "            {\n",
        "              \"system:index\": \"38\"\n",
        "            }),\n",
        "        ee.Feature(\n",
        "            ee.Geometry.Point([-52.31184661256902, -21.287215489572976]),\n",
        "            {\n",
        "              \"system:index\": \"39\"\n",
        "            }),\n",
        "        ee.Feature(\n",
        "            ee.Geometry.Point([-52.35029876100652, -21.383153720977568]),\n",
        "            {\n",
        "              \"system:index\": \"40\"\n",
        "            }),\n",
        "        ee.Feature(\n",
        "            ee.Geometry.Point([-51.75497710573308, -20.644752690949435]),\n",
        "            {\n",
        "              \"system:index\": \"41\"\n",
        "            }),\n",
        "        ee.Feature(\n",
        "            ee.Geometry.Point([-51.728197930928395, -20.647965417897122]),\n",
        "            {\n",
        "              \"system:index\": \"42\"\n",
        "            }),\n",
        "        ee.Feature(\n",
        "            ee.Geometry.Point([-51.816088555928395, -20.803380085663974]),\n",
        "            {\n",
        "              \"system:index\": \"43\"\n",
        "            }),\n",
        "        ee.Feature(\n",
        "            ee.Geometry.Point([-51.70828521120183, -20.836112383843435]),\n",
        "            {\n",
        "              \"system:index\": \"44\"\n",
        "            }),\n",
        "        ee.Feature(\n",
        "            ee.Geometry.Point([-52.14087188112371, -20.688439958333003]),\n",
        "            {\n",
        "              \"system:index\": \"45\"\n",
        "            }),\n",
        "        ee.Feature(\n",
        "            ee.Geometry.Point([-52.049548028584645, -20.69422115476127]),\n",
        "            {\n",
        "              \"system:index\": \"46\"\n",
        "            }),\n",
        "        ee.Feature(\n",
        "            ee.Geometry.Point([-52.31709694350789, -20.582136033548824]),\n",
        "            {\n",
        "              \"system:index\": \"47\"\n",
        "            }),\n",
        "        ee.Feature(\n",
        "            ee.Geometry.Point([-52.122776264796954, -20.469601761643155]),\n",
        "            {\n",
        "              \"system:index\": \"48\"\n",
        "            }),\n",
        "        ee.Feature(\n",
        "            ee.Geometry.Point([-52.460605854640704, -20.72605882624338]),\n",
        "            {\n",
        "              \"system:index\": \"49\"\n",
        "            }),\n",
        "        ee.Feature(\n",
        "            ee.Geometry.Point([-52.55604958022664, -20.749176548242982]),\n",
        "            {\n",
        "              \"system:index\": \"50\"\n",
        "            }),\n",
        "        ee.Feature(\n",
        "            ee.Geometry.Point([-52.60823463882039, -20.67274618799024]),\n",
        "            {\n",
        "              \"system:index\": \"51\"\n",
        "            }),\n",
        "        ee.Feature(\n",
        "            ee.Geometry.Point([-52.551243061671954, -20.569922033796818]),\n",
        "            {\n",
        "              \"system:index\": \"52\"\n",
        "            }),\n",
        "        ee.Feature(\n",
        "            ee.Geometry.Point([-52.60136818374227, -20.506908000619493]),\n",
        "            {\n",
        "              \"system:index\": \"53\"\n",
        "            }),\n",
        "        ee.Feature(\n",
        "            ee.Geometry.Point([-52.595188374171954, -20.49211523325497]),\n",
        "            {\n",
        "              \"system:index\": \"54\"\n",
        "            }),\n",
        "        ee.Feature(\n",
        "            ee.Geometry.Point([-52.31915688003133, -20.605275667342248]),\n",
        "            {\n",
        "              \"system:index\": \"55\"\n",
        "            }),\n",
        "        ee.Feature(\n",
        "            ee.Geometry.Point([-52.18273548767845, -20.688168997620203]),\n",
        "            {\n",
        "              \"system:index\": \"56\"\n",
        "            }),\n",
        "        ee.Feature(\n",
        "            ee.Geometry.Point([-52.15183643982689, -20.701336981233155]),\n",
        "            {\n",
        "              \"system:index\": \"57\"\n",
        "            }),\n",
        "        ee.Feature(\n",
        "            ee.Geometry.Point([-52.2374954669265, -20.720123465666497]),\n",
        "            {\n",
        "              \"system:index\": \"58\"\n",
        "            }),\n",
        "        ee.Feature(\n",
        "            ee.Geometry.Point([-52.143425032356184, -20.7385865432334]),\n",
        "            {\n",
        "              \"system:index\": \"59\"\n",
        "            }),\n",
        "        ee.Feature(\n",
        "            ee.Geometry.Point([-52.13037876770775, -20.685599501681814]),\n",
        "            {\n",
        "              \"system:index\": \"60\"\n",
        "            }),\n",
        "        ee.Feature(\n",
        "            ee.Geometry.Point([-52.144111677864, -20.671787715671524]),\n",
        "            {\n",
        "              \"system:index\": \"61\"\n",
        "            }),\n",
        "        ee.Feature(\n",
        "            ee.Geometry.Point([-52.03339008972923, -20.68190577504366]),\n",
        "            {\n",
        "              \"system:index\": \"62\"\n",
        "            }),\n",
        "        ee.Feature(\n",
        "            ee.Geometry.Point([-52.404283186109325, -20.407603132723523]),\n",
        "            {\n",
        "              \"system:index\": \"63\"\n",
        "            }),\n",
        "        ee.Feature(\n",
        "            ee.Geometry.Point([-52.38883366218354, -20.39859318739168]),\n",
        "            {\n",
        "              \"system:index\": \"64\"\n",
        "            }),\n",
        "        ee.Feature(\n",
        "            ee.Geometry.Point([-52.489427229078075, -20.44556782296092]),\n",
        "            {\n",
        "              \"system:index\": \"65\"\n",
        "            }),\n",
        "        ee.Feature(\n",
        "            ee.Geometry.Point([-52.59070744148042, -20.50764239797433]),\n",
        "            {\n",
        "              \"system:index\": \"66\"\n",
        "            }),\n",
        "        ee.Feature(\n",
        "            ee.Geometry.Point([-52.626756330640575, -20.52629202271895]),\n",
        "            {\n",
        "              \"system:index\": \"67\"\n",
        "            }),\n",
        "        ee.Feature(\n",
        "            ee.Geometry.Point([-52.63465275398042, -20.542528207379764]),\n",
        "            {\n",
        "              \"system:index\": \"68\"\n",
        "            }),\n",
        "        ee.Feature(\n",
        "            ee.Geometry.Point([-52.642205854566356, -20.44186828645125]),\n",
        "            {\n",
        "              \"system:index\": \"69\"\n",
        "            }),\n",
        "        ee.Feature(\n",
        "            ee.Geometry.Point([-52.57491459480073, -20.374939574449932]),\n",
        "            {\n",
        "              \"system:index\": \"70\"\n",
        "            }),\n",
        "        ee.Feature(\n",
        "            ee.Geometry.Point([-52.730096479566356, -20.524523621325788]),\n",
        "            {\n",
        "              \"system:index\": \"71\"\n",
        "            }),\n",
        "        ee.Feature(\n",
        "            ee.Geometry.Point([-52.73421635261323, -20.5106972334466]),\n",
        "            {\n",
        "              \"system:index\": \"72\"\n",
        "            }),\n",
        "        ee.Feature(\n",
        "            ee.Geometry.Point([-52.74039616218354, -20.503622784799457]),\n",
        "            {\n",
        "              \"system:index\": \"73\"\n",
        "            }),\n",
        "        ee.Feature(\n",
        "            ee.Geometry.Point([-52.8258835279062, -20.52098675723965]),\n",
        "            {\n",
        "              \"system:index\": \"74\"\n",
        "            }),\n",
        "        ee.Feature(\n",
        "            ee.Geometry.Point([-52.819017072828075, -20.511018791531008]),\n",
        "            {\n",
        "              \"system:index\": \"75\"\n",
        "            }),\n",
        "        ee.Feature(\n",
        "            ee.Geometry.Point([-52.909654279859325, -20.483362329595053]),\n",
        "            {\n",
        "              \"system:index\": \"76\"\n",
        "            }),\n",
        "        ee.Feature(\n",
        "            ee.Geometry.Point([-52.91995396247651, -20.47692987921427]),\n",
        "            {\n",
        "              \"system:index\": \"77\"\n",
        "            }),\n",
        "        ee.Feature(\n",
        "            ee.Geometry.Point([-52.94913639655854, -20.465350788975783]),\n",
        "            {\n",
        "              \"system:index\": \"78\"\n",
        "            }),\n",
        "        ee.Feature(\n",
        "            ee.Geometry.Point([-52.99170841804292, -20.406798694746396]),\n",
        "            {\n",
        "              \"system:index\": \"79\"\n",
        "            }),\n",
        "        ee.Feature(\n",
        "            ee.Geometry.Point([-52.8258835279062, -20.42932136929195]),\n",
        "            {\n",
        "              \"system:index\": \"80\"\n",
        "            }),\n",
        "        ee.Feature(\n",
        "            ee.Geometry.Point([-52.82107700935151, -20.418703947637233]),\n",
        "            {\n",
        "              \"system:index\": \"81\"\n",
        "            }),\n",
        "        ee.Feature(\n",
        "            ee.Geometry.Point([-53.08200230232026, -20.420634442430007]),\n",
        "            {\n",
        "              \"system:index\": \"82\"\n",
        "            }),\n",
        "        ee.Feature(\n",
        "            ee.Geometry.Point([-53.08886875739839, -20.41580816004643]),\n",
        "            {\n",
        "              \"system:index\": \"83\"\n",
        "            }),\n",
        "        ee.Feature(\n",
        "            ee.Geometry.Point([-53.10843815437104, -20.44605036463639]),\n",
        "            {\n",
        "              \"system:index\": \"84\"\n",
        "            }),\n",
        "        ee.Feature(\n",
        "            ee.Geometry.Point([-53.10397495857026, -20.448945582871453]),\n",
        "            {\n",
        "              \"system:index\": \"85\"\n",
        "            }),\n",
        "        ee.Feature(\n",
        "            ee.Geometry.Point([-52.8478561841562, -20.39296170397543]),\n",
        "            {\n",
        "              \"system:index\": \"86\"\n",
        "            }),\n",
        "        ee.Feature(\n",
        "            ee.Geometry.Point([-52.79395451179292, -20.51744981143009]),\n",
        "            {\n",
        "              \"system:index\": \"87\"\n",
        "            }),\n",
        "        ee.Feature(\n",
        "            ee.Geometry.Point([-52.78846134773042, -20.52902496649481]),\n",
        "            {\n",
        "              \"system:index\": \"88\"\n",
        "            }),\n",
        "        ee.Feature(\n",
        "            ee.Geometry.Point([-52.743829389722606, -20.479824515263]),\n",
        "            {\n",
        "              \"system:index\": \"89\"\n",
        "            }),\n",
        "        ee.Feature(\n",
        "            ee.Geometry.Point([-52.75721897712495, -20.451197381563805]),\n",
        "            {\n",
        "              \"system:index\": \"90\"\n",
        "            }),\n",
        "        ee.Feature(\n",
        "            ee.Geometry.Point([-52.67550816169526, -20.440259764544045]),\n",
        "            {\n",
        "              \"system:index\": \"91\"\n",
        "            }),\n",
        "        ee.Feature(\n",
        "            ee.Geometry.Point([-53.214473230496104, -20.235674466529048]),\n",
        "            {\n",
        "              \"system:index\": \"92\"\n",
        "            }),\n",
        "        ee.Feature(\n",
        "            ee.Geometry.Point([-53.19490383352345, -20.226332353940943]),\n",
        "            {\n",
        "              \"system:index\": \"93\"\n",
        "            }),\n",
        "        ee.Feature(\n",
        "            ee.Geometry.Point([-53.32914303030079, -20.23470806712322]),\n",
        "            {\n",
        "              \"system:index\": \"94\"\n",
        "            }),\n",
        "        ee.Feature(\n",
        "            ee.Geometry.Point([-53.29893062795704, -20.24855921767621]),\n",
        "            {\n",
        "              \"system:index\": \"95\"\n",
        "            }),\n",
        "        ee.Feature(\n",
        "            ee.Geometry.Point([-53.2141299077422, -20.198947067118787]),\n",
        "            {\n",
        "              \"system:index\": \"96\"\n",
        "            }),\n",
        "        ee.Feature(\n",
        "            ee.Geometry.Point([-53.16194484914845, -20.178002127056484]),\n",
        "            {\n",
        "              \"system:index\": \"97\"\n",
        "            }),\n",
        "        ee.Feature(\n",
        "            ee.Geometry.Point([-53.15267513479298, -20.172201492155704]),\n",
        "            {\n",
        "              \"system:index\": \"98\"\n",
        "            }),\n",
        "        ee.Feature(\n",
        "            ee.Geometry.Point([-53.13516567434376, -20.166400641501728]),\n",
        "            {\n",
        "              \"system:index\": \"99\"\n",
        "            }),\n",
        "        ee.Feature(\n",
        "            ee.Geometry.Point([-53.16606472219532, -20.223432963487614]),\n",
        "            {\n",
        "              \"system:index\": \"100\"\n",
        "            }),\n",
        "        ee.Feature(\n",
        "            ee.Geometry.Point([-53.357982141628916, -20.278834174860553]),\n",
        "            {\n",
        "              \"system:index\": \"101\"\n",
        "            }),\n",
        "        ee.Feature(\n",
        "            ee.Geometry.Point([-53.37411831106251, -20.259188332800754]),\n",
        "            {\n",
        "              \"system:index\": \"102\"\n",
        "            }),\n",
        "        ee.Feature(\n",
        "            ee.Geometry.Point([-53.49393795217579, -20.316186613329936]),\n",
        "            {\n",
        "              \"system:index\": \"103\"\n",
        "            }),\n",
        "        ee.Feature(\n",
        "            ee.Geometry.Point([-53.504580957546885, -20.313932842276053]),\n",
        "            {\n",
        "              \"system:index\": \"104\"\n",
        "            }),\n",
        "        ee.Feature(\n",
        "            ee.Geometry.Point([-53.50973079885548, -20.178646628725108]),\n",
        "            {\n",
        "              \"system:index\": \"105\"\n",
        "            }),\n",
        "        ee.Feature(\n",
        "            ee.Geometry.Point([-53.48192165578907, -20.186058206398357]),\n",
        "            {\n",
        "              \"system:index\": \"106\"\n",
        "            }),\n",
        "        ee.Feature(\n",
        "            ee.Geometry.Point([-53.45376918996876, -20.173812801272245]),\n",
        "            {\n",
        "              \"system:index\": \"107\"\n",
        "            }),\n",
        "        ee.Feature(\n",
        "            ee.Geometry.Point([-53.39506099905079, -20.291071310354106]),\n",
        "            {\n",
        "              \"system:index\": \"108\"\n",
        "            }),\n",
        "        ee.Feature(\n",
        "            ee.Geometry.Point([-53.3899111577422, -20.293325414146782]),\n",
        "            {\n",
        "              \"system:index\": \"109\"\n",
        "            }),\n",
        "        ee.Feature(\n",
        "            ee.Geometry.Point([-53.38167141164845, -20.30362947099264]),\n",
        "            {\n",
        "              \"system:index\": \"110\"\n",
        "            }),\n",
        "        ee.Feature(\n",
        "            ee.Geometry.Point([-53.425960046902354, -20.334215599916117]),\n",
        "            {\n",
        "              \"system:index\": \"111\"\n",
        "            }),\n",
        "        ee.Feature(\n",
        "            ee.Geometry.Point([-53.4448427983672, -20.3422635760268]),\n",
        "            {\n",
        "              \"system:index\": \"112\"\n",
        "            }),\n",
        "        ee.Feature(\n",
        "            ee.Geometry.Point([-53.58457515920704, -20.263053285153696]),\n",
        "            {\n",
        "              \"system:index\": \"113\"\n",
        "            }),\n",
        "        ee.Feature(\n",
        "            ee.Geometry.Point([-53.56740902151173, -20.243405445440324]),\n",
        "            {\n",
        "              \"system:index\": \"114\"\n",
        "            }),\n",
        "        ee.Feature(\n",
        "            ee.Geometry.Point([-53.77735032032575, -21.019325548961124]),\n",
        "            {\n",
        "              \"system:index\": \"115\"\n",
        "            }),\n",
        "        ee.Feature(\n",
        "            ee.Geometry.Point([-53.76636399220075, -20.935978042596908]),\n",
        "            {\n",
        "              \"system:index\": \"116\"\n",
        "            }),\n",
        "        ee.Feature(\n",
        "            ee.Geometry.Point([-53.78696335743513, -20.90390894294657]),\n",
        "            {\n",
        "              \"system:index\": \"117\"\n",
        "            }),\n",
        "        ee.Feature(\n",
        "            ee.Geometry.Point([-53.786276711927314, -20.93661935458863]),\n",
        "            {\n",
        "              \"system:index\": \"118\"\n",
        "            }),\n",
        "        ee.Feature(\n",
        "            ee.Geometry.Point([-53.78970993946638, -21.02060745499257]),\n",
        "            {\n",
        "              \"system:index\": \"119\"\n",
        "            }),\n",
        "        ee.Feature(\n",
        "            ee.Geometry.Point([-53.802756204114814, -21.04367987839804]),\n",
        "            {\n",
        "              \"system:index\": \"120\"\n",
        "            }),\n",
        "        ee.Feature(\n",
        "            ee.Geometry.Point([-53.81236924122419, -20.92956477164623]),\n",
        "            {\n",
        "              \"system:index\": \"121\"\n",
        "            }),\n",
        "        ee.Feature(\n",
        "            ee.Geometry.Point([-53.82060898731794, -20.93213011297734]),\n",
        "            {\n",
        "              \"system:index\": \"122\"\n",
        "            }),\n",
        "        ee.Feature(\n",
        "            ee.Geometry.Point([-53.83777512501325, -20.908399029890997]),\n",
        "            {\n",
        "              \"system:index\": \"123\"\n",
        "            }),\n",
        "        ee.Feature(\n",
        "            ee.Geometry.Point([-53.79863633106794, -20.938543274085493]),\n",
        "            {\n",
        "              \"system:index\": \"124\"\n",
        "            }),\n",
        "        ee.Feature(\n",
        "            ee.Geometry.Point([-53.76636399220075, -20.898135776536993]),\n",
        "            {\n",
        "              \"system:index\": \"125\"\n",
        "            }),\n",
        "        ee.Feature(\n",
        "            ee.Geometry.Point([-53.231467141614814, -20.72098439596886]),\n",
        "            {\n",
        "              \"system:index\": \"126\"\n",
        "            }),\n",
        "        ee.Feature(\n",
        "            ee.Geometry.Point([-54.16736496876325, -20.729333149411726]),\n",
        "            {\n",
        "              \"system:index\": \"127\"\n",
        "            }),\n",
        "        ee.Feature(\n",
        "            ee.Geometry.Point([-52.99285782764997, -21.406597045645434]),\n",
        "            {\n",
        "              \"system:index\": \"128\"\n",
        "            }),\n",
        "        ee.Feature(\n",
        "            ee.Geometry.Point([-53.016203774915596, -21.413948539809855]),\n",
        "            {\n",
        "              \"system:index\": \"129\"\n",
        "            }),\n",
        "        ee.Feature(\n",
        "            ee.Geometry.Point([-53.01551712940778, -21.44335081640908]),\n",
        "            {\n",
        "              \"system:index\": \"130\"\n",
        "            }),\n",
        "        ee.Feature(\n",
        "            ee.Geometry.Point([-53.00418747852888, -21.435681228250722]),\n",
        "            {\n",
        "              \"system:index\": \"131\"\n",
        "            }),\n",
        "        ee.Feature(\n",
        "            ee.Geometry.Point([-52.95921219776716, -21.445907256197813]),\n",
        "            {\n",
        "              \"system:index\": \"132\"\n",
        "            }),\n",
        "        ee.Feature(\n",
        "            ee.Geometry.Point([-52.94925583790388, -21.435042077707198]),\n",
        "            {\n",
        "              \"system:index\": \"133\"\n",
        "            }),\n",
        "        ee.Feature(\n",
        "            ee.Geometry.Point([-53.04881943653669, -21.400843444429174]),\n",
        "            {\n",
        "              \"system:index\": \"134\"\n",
        "            }),\n",
        "        ee.Feature(\n",
        "            ee.Geometry.Point([-52.99491776417341, -21.36759598285688]),\n",
        "            {\n",
        "              \"system:index\": \"135\"\n",
        "            }),\n",
        "        ee.Feature(\n",
        "            ee.Geometry.Point([-52.9405725520584, -21.549253882578537]),\n",
        "            {\n",
        "              \"system:index\": \"136\"\n",
        "            }),\n",
        "        ee.Feature(\n",
        "            ee.Geometry.Point([-52.93370609698027, -21.5530857348114]),\n",
        "            {\n",
        "              \"system:index\": \"137\"\n",
        "            }),\n",
        "        ee.Feature(\n",
        "            ee.Geometry.Point([-52.88667087969512, -21.547657247611454]),\n",
        "            {\n",
        "              \"system:index\": \"138\"\n",
        "            }),\n",
        "        ee.Feature(\n",
        "            ee.Geometry.Point([-52.8691614192459, -21.548934556990712]),\n",
        "            {\n",
        "              \"system:index\": \"139\"\n",
        "            }),\n",
        "        ee.Feature(\n",
        "            ee.Geometry.Point([-52.86195164141387, -21.567773563900847]),\n",
        "            {\n",
        "              \"system:index\": \"140\"\n",
        "            }),\n",
        "        ee.Feature(\n",
        "            ee.Geometry.Point([-52.843755535456836, -21.587567848340857]),\n",
        "            {\n",
        "              \"system:index\": \"141\"\n",
        "            }),\n",
        "        ee.Feature(\n",
        "            ee.Geometry.Point([-52.94434910235137, -21.4431992221726]),\n",
        "            {\n",
        "              \"system:index\": \"142\"\n",
        "            }),\n",
        "        ee.Feature(\n",
        "            ee.Geometry.Point([-52.87832471698773, -20.18663804250069]),\n",
        "            {\n",
        "              \"system:index\": \"143\"\n",
        "            }),\n",
        "        ee.Feature(\n",
        "            ee.Geometry.Point([-52.74683210224163, -20.184382390647126]),\n",
        "            {\n",
        "              \"system:index\": \"144\"\n",
        "            }),\n",
        "        ee.Feature(\n",
        "            ee.Geometry.Point([-52.80725690692913, -20.171170060024803]),\n",
        "            {\n",
        "              \"system:index\": \"145\"\n",
        "            }),\n",
        "        ee.Feature(\n",
        "            ee.Geometry.Point([-52.821676462593196, -20.18212670614791]),\n",
        "            {\n",
        "              \"system:index\": \"146\"\n",
        "            }),\n",
        "        ee.Feature(\n",
        "            ee.Geometry.Point([-52.822706430854915, -20.239153269157235]),\n",
        "            {\n",
        "              \"system:index\": \"147\"\n",
        "            }),\n",
        "        ee.Feature(\n",
        "            ee.Geometry.Point([-52.77017804950726, -20.251071434176065]),\n",
        "            {\n",
        "              \"system:index\": \"148\"\n",
        "            }),\n",
        "        ee.Feature(\n",
        "            ee.Geometry.Point([-52.887594431343196, -20.200493473214916]),\n",
        "            {\n",
        "              \"system:index\": \"149\"\n",
        "            }),\n",
        "        ee.Feature(\n",
        "            ee.Geometry.Point([-52.84570905536663, -20.14667595054818]),\n",
        "            {\n",
        "              \"system:index\": \"150\"\n",
        "            }),\n",
        "        ee.Feature(\n",
        "            ee.Geometry.Point([-52.85600873798382, -20.14441972084767]),\n",
        "            {\n",
        "              \"system:index\": \"151\"\n",
        "            }),\n",
        "        ee.Feature(\n",
        "            ee.Geometry.Point([-52.795240610542415, -20.206293054989374]),\n",
        "            {\n",
        "              \"system:index\": \"152\"\n",
        "            }),\n",
        "        ee.Feature(\n",
        "            ee.Geometry.Point([-52.80313703388226, -20.212736781338315]),\n",
        "            {\n",
        "              \"system:index\": \"153\"\n",
        "            }),\n",
        "        ee.Feature(\n",
        "            ee.Geometry.Point([-52.79867383808148, -20.210159322811435]),\n",
        "            {\n",
        "              \"system:index\": \"154\"\n",
        "            }),\n",
        "        ee.Feature(\n",
        "            ee.Geometry.Point([-52.75163862079632, -20.184704628624996]),\n",
        "            {\n",
        "              \"system:index\": \"155\"\n",
        "            }),\n",
        "        ee.Feature(\n",
        "            ee.Geometry.Point([-52.7506086525346, -20.133782770457568]),\n",
        "            {\n",
        "              \"system:index\": \"156\"\n",
        "            }),\n",
        "        ee.Feature(\n",
        "            ee.Geometry.Point([-52.68640729755413, -20.160534932069453]),\n",
        "            {\n",
        "              \"system:index\": \"157\"\n",
        "            }),\n",
        "        ee.Feature(\n",
        "            ee.Geometry.Point([-52.679884165229915, -20.160857219325145]),\n",
        "            {\n",
        "              \"system:index\": \"158\"\n",
        "            }),\n",
        "        ee.Feature(\n",
        "            ee.Geometry.Point([-52.53912183612835, -20.18567133856106]),\n",
        "            {\n",
        "              \"system:index\": \"159\"\n",
        "            }),\n",
        "        ee.Feature(\n",
        "            ee.Geometry.Point([-52.70903194212359, -19.741586993703617]),\n",
        "            {\n",
        "              \"system:index\": \"160\"\n",
        "            }),\n",
        "        ee.Feature(\n",
        "            ee.Geometry.Point([-52.786279561752494, -19.76226688089398]),\n",
        "            {\n",
        "              \"system:index\": \"161\"\n",
        "            }),\n",
        "        ee.Feature(\n",
        "            ee.Geometry.Point([-52.695642354721244, -19.694400978279504]),\n",
        "            {\n",
        "              \"system:index\": \"162\"\n",
        "            }),\n",
        "        ee.Feature(\n",
        "            ee.Geometry.Point([-52.56964290403765, -19.780682648041594]),\n",
        "            {\n",
        "              \"system:index\": \"163\"\n",
        "            }),\n",
        "        ee.Feature(\n",
        "            ee.Geometry.Point([-52.392488363022025, -19.70603717968956]),\n",
        "            {\n",
        "              \"system:index\": \"164\"\n",
        "            }),\n",
        "        ee.Feature(\n",
        "            ee.Geometry.Point([-52.40107143186968, -19.701188865268374]),\n",
        "            {\n",
        "              \"system:index\": \"165\"\n",
        "            }),\n",
        "        ee.Feature(\n",
        "            ee.Geometry.Point([-52.088069445593646, -19.984163079397348]),\n",
        "            {\n",
        "              \"system:index\": \"166\"\n",
        "            }),\n",
        "        ee.Feature(\n",
        "            ee.Geometry.Point([-52.049617297156146, -19.929302987462915]),\n",
        "            {\n",
        "              \"system:index\": \"167\"\n",
        "            }),\n",
        "        ee.Feature(\n",
        "            ee.Geometry.Point([-52.184199816687396, -19.918974249956214]),\n",
        "            {\n",
        "              \"system:index\": \"168\"\n",
        "            }),\n",
        "        ee.Feature(\n",
        "            ee.Geometry.Point([-52.274150378210834, -19.873778093474467]),\n",
        "            {\n",
        "              \"system:index\": \"169\"\n",
        "            }),\n",
        "        ee.Feature(\n",
        "            ee.Geometry.Point([-52.43150205464873, -19.834476740895887]),\n",
        "            {\n",
        "              \"system:index\": \"170\"\n",
        "            }),\n",
        "        ee.Feature(\n",
        "            ee.Geometry.Point([-52.450384806113576, -19.83302343342292]),\n",
        "            {\n",
        "              \"system:index\": \"171\"\n",
        "            }),\n",
        "        ee.Feature(\n",
        "            ee.Geometry.Point([-52.450384806113576, -19.84077425295329]),\n",
        "            {\n",
        "              \"system:index\": \"172\"\n",
        "            }),\n",
        "        ee.Feature(\n",
        "            ee.Geometry.Point([-52.40935773702178, -19.819943067958445]),\n",
        "            {\n",
        "              \"system:index\": \"173\"\n",
        "            }),\n",
        "        ee.Feature(\n",
        "            ee.Geometry.Point([-52.41055936666045, -19.838190688471677]),\n",
        "            {\n",
        "              \"system:index\": \"174\"\n",
        "            }),\n",
        "        ee.Feature(\n",
        "            ee.Geometry.Point([-52.33520002217803, -19.838513636330493]),\n",
        "            {\n",
        "              \"system:index\": \"175\"\n",
        "            }),\n",
        "        ee.Feature(\n",
        "            ee.Geometry.Point([-52.37382383199248, -19.87645543526845]),\n",
        "            {\n",
        "              \"system:index\": \"176\"\n",
        "            }),\n",
        "        ee.Feature(\n",
        "            ee.Geometry.Point([-52.866078364810754, -20.056392888493303]),\n",
        "            {\n",
        "              \"system:index\": \"177\"\n",
        "            }),\n",
        "        ee.Feature(\n",
        "            ee.Geometry.Point([-52.890797603092004, -20.068002535628384]),\n",
        "            {\n",
        "              \"system:index\": \"178\"\n",
        "            }),\n",
        "        ee.Feature(\n",
        "            ee.Geometry.Point([-52.789174067935754, -20.087672475869567]),\n",
        "            {\n",
        "              \"system:index\": \"179\"\n",
        "            }),\n",
        "        ee.Feature(\n",
        "            ee.Geometry.Point([-52.81766985650997, -20.06477771982514]),\n",
        "            {\n",
        "              \"system:index\": \"180\"\n",
        "            }),\n",
        "        ee.Feature(\n",
        "            ee.Geometry.Point([-52.84513567682247, -20.05800539085526]),\n",
        "            {\n",
        "              \"system:index\": \"181\"\n",
        "            }),\n",
        "        ee.Feature(\n",
        "            ee.Geometry.Point([-53.018856990299035, -20.061230345869983]),\n",
        "            {\n",
        "              \"system:index\": \"182\"\n",
        "            }),\n",
        "        ee.Feature(\n",
        "            ee.Geometry.Point([-52.99310778375607, -20.07090481316085]),\n",
        "            {\n",
        "              \"system:index\": \"183\"\n",
        "            }),\n",
        "        ee.Feature(\n",
        "            ee.Geometry.Point([-52.86161516900997, -20.103471131393338]),\n",
        "            {\n",
        "              \"system:index\": \"184\"\n",
        "            }),\n",
        "        ee.Feature(\n",
        "            ee.Geometry.Point([-52.8959474444006, -19.99607341247102]),\n",
        "            {\n",
        "              \"system:index\": \"185\"\n",
        "            }),\n",
        "        ee.Feature(\n",
        "            ee.Geometry.Point([-52.85440539117794, -19.98284519484165]),\n",
        "            {\n",
        "              \"system:index\": \"186\"\n",
        "            }),\n",
        "        ee.Feature(\n",
        "            ee.Geometry.Point([-52.98486803766232, -20.020591071415]),\n",
        "            {\n",
        "              \"system:index\": \"187\"\n",
        "            }),\n",
        "        ee.Feature(\n",
        "            ee.Geometry.Point([-52.867794978580285, -20.030590598171695]),\n",
        "            {\n",
        "              \"system:index\": \"188\"\n",
        "            }),\n",
        "        ee.Feature(\n",
        "            ee.Geometry.Point([-52.690297114810754, -20.02801013603307]),\n",
        "            {\n",
        "              \"system:index\": \"189\"\n",
        "            }),\n",
        "        ee.Feature(\n",
        "            ee.Geometry.Point([-52.70197008844357, -20.04607248108756]),\n",
        "            {\n",
        "              \"system:index\": \"190\"\n",
        "            }),\n",
        "        ee.Feature(\n",
        "            ee.Geometry.Point([-53.914070903124376, -20.454704968030963]),\n",
        "            {\n",
        "              \"system:index\": \"191\"\n",
        "            }),\n",
        "        ee.Feature(\n",
        "            ee.Geometry.Point([-53.83922654277281, -20.51613275377036]),\n",
        "            {\n",
        "              \"system:index\": \"192\"\n",
        "            }),\n",
        "        ee.Feature(\n",
        "            ee.Geometry.Point([-53.94943314677672, -20.474647574220082]),\n",
        "            {\n",
        "              \"system:index\": \"193\"\n",
        "            }),\n",
        "        ee.Feature(\n",
        "            ee.Geometry.Point([-53.93776017314391, -20.486547572383518]),\n",
        "            {\n",
        "              \"system:index\": \"194\"\n",
        "            }),\n",
        "        ee.Feature(\n",
        "            ee.Geometry.Point([-53.944283305468126, -20.45760002318145]),\n",
        "            {\n",
        "              \"system:index\": \"195\"\n",
        "            }),\n",
        "        ee.Feature(\n",
        "            ee.Geometry.Point([-53.964539347948595, -20.525135805270565]),\n",
        "            {\n",
        "              \"system:index\": \"196\"\n",
        "            }),\n",
        "        ee.Feature(\n",
        "            ee.Geometry.Point([-53.80043107158141, -20.57978581357078]),\n",
        "            {\n",
        "              \"system:index\": \"197\"\n",
        "            }),\n",
        "        ee.Feature(\n",
        "            ee.Geometry.Point([-54.133797465624376, -20.504878194933717]),\n",
        "            {\n",
        "              \"system:index\": \"198\"\n",
        "            }),\n",
        "        ee.Feature(\n",
        "            ee.Geometry.Point([-54.04213029033141, -20.483331447698276]),\n",
        "            {\n",
        "              \"system:index\": \"199\"\n",
        "            }),\n",
        "        ee.Feature(\n",
        "            ee.Geometry.Point([-53.9648826707025, -20.447306245886427]),\n",
        "            {\n",
        "              \"system:index\": \"200\"\n",
        "            }),\n",
        "        ee.Feature(\n",
        "            ee.Geometry.Point([-54.13517075664, -20.552141781395886]),\n",
        "            {\n",
        "              \"system:index\": \"201\"\n",
        "            }),\n",
        "        ee.Feature(\n",
        "            ee.Geometry.Point([-52.92152785092682, -20.78872182870366]),\n",
        "            {\n",
        "              \"system:index\": \"202\"\n",
        "            }),\n",
        "        ee.Feature(\n",
        "            ee.Geometry.Point([-52.93835066586823, -20.778771402302095]),\n",
        "            {\n",
        "              \"system:index\": \"203\"\n",
        "            }),\n",
        "        ee.Feature(\n",
        "            ee.Geometry.Point([-52.98023604184479, -20.78069734246756]),\n",
        "            {\n",
        "              \"system:index\": \"204\"\n",
        "            }),\n",
        "        ee.Feature(\n",
        "            ee.Geometry.Point([-52.908481586278384, -20.79802969823621]),\n",
        "            {\n",
        "              \"system:index\": \"205\"\n",
        "            }),\n",
        "        ee.Feature(\n",
        "            ee.Geometry.Point([-52.92358778745026, -20.792894392947545]),\n",
        "            {\n",
        "              \"system:index\": \"206\"\n",
        "            }),\n",
        "        ee.Feature(\n",
        "            ee.Geometry.Point([-52.23580049754944, -20.55626036512568]),\n",
        "            {\n",
        "              \"system:index\": \"207\"\n",
        "            }),\n",
        "        ee.Feature(\n",
        "            ee.Geometry.Point([-52.18842195751038, -20.570082634063485]),\n",
        "            {\n",
        "              \"system:index\": \"208\"\n",
        "            }),\n",
        "        ee.Feature(\n",
        "            ee.Geometry.Point([-52.24507021190491, -20.50063721128871]),\n",
        "            {\n",
        "              \"system:index\": \"209\"\n",
        "            }),\n",
        "        ee.Feature(\n",
        "            ee.Geometry.Point([-52.184988729971316, -20.54983097668342]),\n",
        "            {\n",
        "              \"system:index\": \"210\"\n",
        "            }),\n",
        "        ee.Feature(\n",
        "            ee.Geometry.Point([-52.207991354483035, -20.48359254814845]),\n",
        "            {\n",
        "              \"system:index\": \"211\"\n",
        "            }),\n",
        "        ee.Feature(\n",
        "            ee.Geometry.Point([-52.12319063426819, -20.483914163104334]),\n",
        "            {\n",
        "              \"system:index\": \"212\"\n",
        "            }),\n",
        "        ee.Feature(\n",
        "            ee.Geometry.Point([-52.10568117381897, -20.496778208242215]),\n",
        "            {\n",
        "              \"system:index\": \"213\"\n",
        "            }),\n",
        "        ee.Feature(\n",
        "            ee.Geometry.Point([-51.96697878124085, -20.60479351088411]),\n",
        "            {\n",
        "              \"system:index\": \"214\"\n",
        "            }),\n",
        "        ee.Feature(\n",
        "            ee.Geometry.Point([-52.29725527049866, -20.590652996085264]),\n",
        "            {\n",
        "              \"system:index\": \"215\"\n",
        "            }),\n",
        "        ee.Feature(\n",
        "            ee.Geometry.Point([-52.47269319774475, -20.532148764053243]),\n",
        "            {\n",
        "              \"system:index\": \"216\"\n",
        "            }),\n",
        "        ee.Feature(\n",
        "            ee.Geometry.Point([-52.51698183299866, -20.59129577520949]),\n",
        "            {\n",
        "              \"system:index\": \"217\"\n",
        "            }),\n",
        "        ee.Feature(\n",
        "            ee.Geometry.Point([-51.83058547669085, -20.39978311728478]),\n",
        "            {\n",
        "              \"system:index\": \"218\"\n",
        "            }),\n",
        "        ee.Feature(\n",
        "            ee.Geometry.Point([-51.752307888800225, -20.38980728308718]),\n",
        "            {\n",
        "              \"system:index\": \"219\"\n",
        "            }),\n",
        "        ee.Feature(\n",
        "            ee.Geometry.Point([-51.76398086243304, -20.38594549650018]),\n",
        "            {\n",
        "              \"system:index\": \"220\"\n",
        "            }),\n",
        "        ee.Feature(\n",
        "            ee.Geometry.Point([-51.77359389954241, -20.39527798180641]),\n",
        "            {\n",
        "              \"system:index\": \"221\"\n",
        "            }),\n",
        "        ee.Feature(\n",
        "            ee.Geometry.Point([-51.7454414337221, -20.379508970573948]),\n",
        "            {\n",
        "              \"system:index\": \"222\"\n",
        "            }),\n",
        "        ee.Feature(\n",
        "            ee.Geometry.Point([-51.82131576233538, -20.38819821709894]),\n",
        "            {\n",
        "              \"system:index\": \"223\"\n",
        "            }),\n",
        "        ee.Feature(\n",
        "            ee.Geometry.Point([-51.847408291632256, -20.393668972929085]),\n",
        "            {\n",
        "              \"system:index\": \"224\"\n",
        "            }),\n",
        "        ee.Feature(\n",
        "            ee.Geometry.Point([-51.85633468323382, -20.401070274655066]),\n",
        "            {\n",
        "              \"system:index\": \"225\"\n",
        "            }),\n",
        "        ee.Feature(\n",
        "            ee.Geometry.Point([-51.905086514288506, -20.390772714618098]),\n",
        "            {\n",
        "              \"system:index\": \"226\"\n",
        "            }),\n",
        "        ee.Feature(\n",
        "            ee.Geometry.Point([-51.895130154425225, -20.395921580653468]),\n",
        "            {\n",
        "              \"system:index\": \"227\"\n",
        "            }),\n",
        "        ee.Feature(\n",
        "            ee.Geometry.Point([-51.89341354065569, -20.38916365870733]),\n",
        "            {\n",
        "              \"system:index\": \"228\"\n",
        "            }),\n",
        "        ee.Feature(\n",
        "            ee.Geometry.Point([-51.86697768860491, -20.444827222744376]),\n",
        "            {\n",
        "              \"system:index\": \"229\"\n",
        "            }),\n",
        "        ee.Feature(\n",
        "            ee.Geometry.Point([-51.851184841925225, -20.437749736692002]),\n",
        "            {\n",
        "              \"system:index\": \"230\"\n",
        "            }),\n",
        "        ee.Feature(\n",
        "            ee.Geometry.Point([-51.778743740851006, -20.463484487228673]),\n",
        "            {\n",
        "              \"system:index\": \"231\"\n",
        "            }),\n",
        "        ee.Feature(\n",
        "            ee.Geometry.Point([-51.682613369757256, -20.453512782933156]),\n",
        "            {\n",
        "              \"system:index\": \"232\"\n",
        "            }),\n",
        "        ee.Feature(\n",
        "            ee.Geometry.Point([-51.95486831360491, -20.44289703159173]),\n",
        "            {\n",
        "              \"system:index\": \"233\"\n",
        "            }),\n",
        "        ee.Feature(\n",
        "            ee.Geometry.Point([-51.95761489563616, -20.43549774098322]),\n",
        "            {\n",
        "              \"system:index\": \"234\"\n",
        "            }),\n",
        "        ee.Feature(\n",
        "            ee.Geometry.Point([-51.94937514954241, -20.427454629954322]),\n",
        "            {\n",
        "              \"system:index\": \"235\"\n",
        "            }),\n",
        "        ee.Feature(\n",
        "            ee.Geometry.Point([-51.96310805969866, -20.38079629725138]),\n",
        "            {\n",
        "              \"system:index\": \"236\"\n",
        "            }),\n",
        "        ee.Feature(\n",
        "            ee.Geometry.Point([-52.04996871643694, -20.35601337185561]),\n",
        "            {\n",
        "              \"system:index\": \"237\"\n",
        "            }),\n",
        "        ee.Feature(\n",
        "            ee.Geometry.Point([-52.03211593323382, -20.351185066185394]),\n",
        "            {\n",
        "              \"system:index\": \"238\"\n",
        "            }),\n",
        "        ee.Feature(\n",
        "            ee.Geometry.Point([-52.06232833557757, -20.414263017545426]),\n",
        "            {\n",
        "              \"system:index\": \"239\"\n",
        "            }),\n",
        "        ee.Feature(\n",
        "            ee.Geometry.Point([-52.04584884339007, -20.45126101817541]),\n",
        "            {\n",
        "              \"system:index\": \"240\"\n",
        "            }),\n",
        "        ee.Feature(\n",
        "            ee.Geometry.Point([-51.92019271546038, -20.357300894540536]),\n",
        "            {\n",
        "              \"system:index\": \"241\"\n",
        "            }),\n",
        "        ee.Feature(\n",
        "            ee.Geometry.Point([-51.79419326477679, -20.346034707115294]),\n",
        "            {\n",
        "              \"system:index\": \"242\"\n",
        "            }),\n",
        "        ee.Feature(\n",
        "            ee.Geometry.Point([-51.737545010382256, -20.382405440487204]),\n",
        "            {\n",
        "              \"system:index\": \"243\"\n",
        "            }),\n",
        "        ee.Feature(\n",
        "            ee.Geometry.Point([-51.68844985657366, -20.340240347944377]),\n",
        "            {\n",
        "              \"system:index\": \"244\"\n",
        "            }),\n",
        "        ee.Feature(\n",
        "            ee.Geometry.Point([-51.69977950745257, -20.34184991395169]),\n",
        "            {\n",
        "              \"system:index\": \"245\"\n",
        "            }),\n",
        "        ee.Feature(\n",
        "            ee.Geometry.Point([-51.70870589905413, -20.339918432731398]),\n",
        "            {\n",
        "              \"system:index\": \"246\"\n",
        "            }),\n",
        "        ee.Feature(\n",
        "            ee.Geometry.Point([-51.591976162726006, -20.408792993015783]),\n",
        "            {\n",
        "              \"system:index\": \"247\"\n",
        "            }),\n",
        "        ee.Feature(\n",
        "            ee.Geometry.Point([-51.564510342413506, -20.427132896765023]),\n",
        "            {\n",
        "              \"system:index\": \"248\"\n",
        "            }),\n",
        "        ee.Feature(\n",
        "            ee.Geometry.Point([-51.556270596319756, -20.402035635625264]),\n",
        "            {\n",
        "              \"system:index\": \"249\"\n",
        "            }),\n",
        "        ee.Feature(\n",
        "            ee.Geometry.Point([-51.48966598206194, -20.36277274617902]),\n",
        "            {\n",
        "              \"system:index\": \"250\"\n",
        "            }),\n",
        "        ee.Feature(\n",
        "            ee.Geometry.Point([-51.46803664856585, -20.37629060687237]),\n",
        "            {\n",
        "              \"system:index\": \"251\"\n",
        "            }),\n",
        "        ee.Feature(\n",
        "            ee.Geometry.Point([-51.822689053351006, -20.47538535109249]),\n",
        "            {\n",
        "              \"system:index\": \"252\"\n",
        "            }),\n",
        "        ee.Feature(\n",
        "            ee.Geometry.Point([-51.8223457305971, -20.45383446091861]),\n",
        "            {\n",
        "              \"system:index\": \"253\"\n",
        "            }),\n",
        "        ee.Feature(\n",
        "            ee.Geometry.Point([-51.58153149876736, -19.949467061179252]),\n",
        "            {\n",
        "              \"system:index\": \"254\"\n",
        "            }),\n",
        "        ee.Feature(\n",
        "            ee.Geometry.Point([-51.62582013402127, -19.937848667038697]),\n",
        "            {\n",
        "              \"system:index\": \"255\"\n",
        "            }),\n",
        "        ee.Feature(\n",
        "            ee.Geometry.Point([-51.5945777634158, -19.87102632750058]),\n",
        "            {\n",
        "              \"system:index\": \"256\"\n",
        "            }),\n",
        "        ee.Feature(\n",
        "            ee.Geometry.Point([-51.60762402806424, -19.974314644370292]),\n",
        "            {\n",
        "              \"system:index\": \"257\"\n",
        "            }),\n",
        "        ee.Feature(\n",
        "            ee.Geometry.Point([-51.64023968968533, -19.97979994684889]),\n",
        "            {\n",
        "              \"system:index\": \"258\"\n",
        "            }),\n",
        "        ee.Feature(\n",
        "            ee.Geometry.Point([-51.60453412327908, -19.99270578772635]),\n",
        "            {\n",
        "              \"system:index\": \"259\"\n",
        "            }),\n",
        "        ee.Feature(\n",
        "            ee.Geometry.Point([-51.62856671605252, -19.900405807461137]),\n",
        "            {\n",
        "              \"system:index\": \"260\"\n",
        "            }),\n",
        "        ee.Feature(\n",
        "            ee.Geometry.Point([-51.760745976306424, -19.93591218491091]),\n",
        "            {\n",
        "              \"system:index\": \"261\"\n",
        "            }),\n",
        "        ee.Feature(\n",
        "            ee.Geometry.Point([-51.46995160374783, -19.95075794108595]),\n",
        "            {\n",
        "              \"system:index\": \"262\"\n",
        "            }),\n",
        "        ee.Feature(\n",
        "            ee.Geometry.Point([-51.37759778294705, -19.926874954463585]),\n",
        "            {\n",
        "              \"system:index\": \"263\"\n",
        "            })]);"
      ],
      "execution_count": 1,
      "outputs": [
        {
          "output_type": "error",
          "ename": "NameError",
          "evalue": "ignored",
          "traceback": [
            "\u001b[0;31m---------------------------------------------------------------------------\u001b[0m",
            "\u001b[0;31mNameError\u001b[0m                                 Traceback (most recent call last)",
            "\u001b[0;32m<ipython-input-1-4539b07897ba>\u001b[0m in \u001b[0;36m<module>\u001b[0;34m()\u001b[0m\n\u001b[0;32m----> 1\u001b[0;31m samples = ee.FeatureCollection(\n\u001b[0m\u001b[1;32m      2\u001b[0m         [ee.Feature(\n\u001b[1;32m      3\u001b[0m             \u001b[0mee\u001b[0m\u001b[0;34m.\u001b[0m\u001b[0mGeometry\u001b[0m\u001b[0;34m.\u001b[0m\u001b[0mPoint\u001b[0m\u001b[0;34m(\u001b[0m\u001b[0;34m[\u001b[0m\u001b[0;34m-\u001b[0m\u001b[0;36m52.22498595583074\u001b[0m\u001b[0;34m,\u001b[0m \u001b[0;34m-\u001b[0m\u001b[0;36m21.023063098218522\u001b[0m\u001b[0;34m]\u001b[0m\u001b[0;34m)\u001b[0m\u001b[0;34m,\u001b[0m\u001b[0;34m\u001b[0m\u001b[0;34m\u001b[0m\u001b[0m\n\u001b[1;32m      4\u001b[0m             {\n\u001b[1;32m      5\u001b[0m               \u001b[0;34m\"system:index\"\u001b[0m\u001b[0;34m:\u001b[0m \u001b[0;34m\"0\"\u001b[0m\u001b[0;34m\u001b[0m\u001b[0;34m\u001b[0m\u001b[0m\n",
            "\u001b[0;31mNameError\u001b[0m: name 'ee' is not defined"
          ]
        }
      ]
    },
    {
      "cell_type": "code",
      "metadata": {
        "id": "zHEiJR2d8W1m"
      },
      "source": [
        "#heigth = ee.Image('users/potapovpeter/GEDI_V27/GEDI_SAM_v27').clip(AOI)\n",
        "#mapbiomas = ee.Image('projects/mapbiomas-workspace/public/collection5/mapbiomas_collection50_integration_v1')\n",
        "mapbiomas_2019 =  mapbiomas.select('classification_2019')"
      ],
      "execution_count": null,
      "outputs": []
    },
    {
      "cell_type": "code",
      "metadata": {
        "id": "UG7Abt9g-vV6"
      },
      "source": [
        "mask_2019 = mapbiomas_2019.eq(9)\n",
        "filterdate = ee.Filter.date('2019-5-10','2019-7-25');\n",
        "S2 = ee.ImageCollection(\"UCSB-CHG/CHIRPS/DAILY\").filter(filterdate).filterBounds(AOI)"
      ],
      "execution_count": null,
      "outputs": []
    },
    {
      "cell_type": "code",
      "metadata": {
        "id": "jRYdcsMu-5lA"
      },
      "source": [
        "img = ee.Image(S2.median()).clip(AOI).divide(10000);"
      ],
      "execution_count": null,
      "outputs": []
    },
    {
      "cell_type": "code",
      "metadata": {
        "id": "RqvkAFSR_BoA"
      },
      "source": [
        "bands = ['precipitation']\n",
        "img = img.select(bands).float(); \n",
        "#img = img.updateMask(mask_2019)"
      ],
      "execution_count": null,
      "outputs": []
    },
    {
      "cell_type": "code",
      "metadata": {
        "id": "zEN1cxsWDjl3"
      },
      "source": [
        "#heigth = heigth.updateMask(mask_2019)"
      ],
      "execution_count": null,
      "outputs": []
    },
    {
      "cell_type": "code",
      "metadata": {
        "id": "v9WDPnseAQfN"
      },
      "source": [
        "basemaps = {\n",
        "    'Google Maps': folium.TileLayer(\n",
        "        tiles = 'https://mt1.google.com/vt/lyrs=m&x={x}&y={y}&z={z}',\n",
        "        attr = 'Google',\n",
        "        name = 'Google Maps',\n",
        "        overlay = True,\n",
        "        control = True\n",
        "    ),\n",
        "    'Google Satellite': folium.TileLayer(\n",
        "        tiles = 'https://mt1.google.com/vt/lyrs=s&x={x}&y={y}&z={z}',\n",
        "        attr = 'Google',\n",
        "        name = 'Google Satellite',\n",
        "        overlay = True,\n",
        "        control = True\n",
        "    ),\n",
        "    'Google Terrain': folium.TileLayer(\n",
        "        tiles = 'https://mt1.google.com/vt/lyrs=p&x={x}&y={y}&z={z}',\n",
        "        attr = 'Google',\n",
        "        name = 'Google Terrain',\n",
        "        overlay = True,\n",
        "        control = True\n",
        "    ),\n",
        "    'Google Satellite Hybrid': folium.TileLayer(\n",
        "        tiles = 'https://mt1.google.com/vt/lyrs=y&x={x}&y={y}&z={z}',\n",
        "        attr = 'Google',\n",
        "        name = 'Google Satellite',\n",
        "        overlay = True,\n",
        "        control = True\n",
        "    )\n",
        "}"
      ],
      "execution_count": null,
      "outputs": []
    },
    {
      "cell_type": "code",
      "metadata": {
        "id": "Z69LrZsZ_Gmo"
      },
      "source": [
        "vis_params = {'min': 0, 'max': 0.2, 'bands': ['B4', 'B3','B2']}\n",
        "GFCHParams = {'min': 0, 'max': 40, 'palette': ['white', 'green']};"
      ],
      "execution_count": null,
      "outputs": []
    },
    {
      "cell_type": "code",
      "metadata": {
        "id": "7oFoBtsuB_cP"
      },
      "source": [
        "def add_ee_layer(self, ee_object, vis_params, name):\n",
        "    \n",
        "    try:    \n",
        "        # display ee.Image()\n",
        "        if isinstance(ee_object, ee.image.Image):    \n",
        "            map_id_dict = ee.Image(ee_object).getMapId(vis_params)\n",
        "            folium.raster_layers.TileLayer(\n",
        "            tiles = map_id_dict['tile_fetcher'].url_format,\n",
        "            attr = 'Google Earth Engine',\n",
        "            name = name,\n",
        "            overlay = True,\n",
        "            control = True\n",
        "            ).add_to(self)\n",
        "        # display ee.ImageCollection()\n",
        "        elif isinstance(ee_object, ee.imagecollection.ImageCollection):    \n",
        "            ee_object_new = ee_object.mosaic()\n",
        "            map_id_dict = ee.Image(ee_object_new).getMapId(vis_params)\n",
        "            folium.raster_layers.TileLayer(\n",
        "            tiles = map_id_dict['tile_fetcher'].url_format,\n",
        "            attr = 'Google Earth Engine',\n",
        "            name = name,\n",
        "            overlay = True,\n",
        "            control = True\n",
        "            ).add_to(self)\n",
        "        # display ee.Geometry()\n",
        "        elif isinstance(ee_object, ee.geometry.Geometry):    \n",
        "            folium.GeoJson(\n",
        "            data = ee_object.getInfo(),\n",
        "            name = name,\n",
        "            overlay = True,\n",
        "            control = True\n",
        "        ).add_to(self)\n",
        "        # display ee.FeatureCollection()\n",
        "        elif isinstance(ee_object, ee.featurecollection.FeatureCollection):  \n",
        "            ee_object_new = ee.Image().paint(ee_object, 0, 2)\n",
        "            map_id_dict = ee.Image(ee_object_new).getMapId(vis_params)\n",
        "            folium.raster_layers.TileLayer(\n",
        "            tiles = map_id_dict['tile_fetcher'].url_format,\n",
        "            attr = 'Google Earth Engine',\n",
        "            name = name,\n",
        "            overlay = True,\n",
        "            control = True\n",
        "        ).add_to(self)\n",
        "    \n",
        "    except:\n",
        "        print(\"Could not display {}\".format(name))\n",
        "    \n",
        "# Add EE drawing method to folium.\n",
        "folium.Map.add_ee_layer = add_ee_layer"
      ],
      "execution_count": null,
      "outputs": []
    },
    {
      "cell_type": "code",
      "metadata": {
        "id": "xPsJQFMUCikd",
        "outputId": "4291c959-ebe9-44ab-b27d-bba8e99174a0",
        "colab": {
          "base_uri": "https://localhost:8080/",
          "height": 1000
        }
      },
      "source": [
        "my_map = folium.Map(location=[-20.838318,-51.816395], zoom_start=10)\n",
        "\n",
        "# Add custom basemaps\n",
        "basemaps['Google Maps'].add_to(my_map)\n",
        "\n",
        "# Add the elevation model to the map object.\n",
        "my_map.add_ee_layer(img, vis_params, 'AOI Sentinel 2')\n",
        "my_map.add_ee_layer(heigth, GFCHParams, 'Global Forest Canopy Height 2019')\n",
        "my_map.add_child(folium.LayerControl())\n",
        "\n",
        "# Display the map.\n",
        "display(my_map)"
      ],
      "execution_count": null,
      "outputs": [
        {
          "output_type": "display_data",
          "data": {
            "text/html": [
              "<div style=\"width:100%;\"><div style=\"position:relative;width:100%;height:0;padding-bottom:60%;\"><span style=\"color:#565656\">Make this Notebook Trusted to load map: File -> Trust Notebook</span><iframe src=\"about:blank\" style=\"position:absolute;width:100%;height:100%;left:0;top:0;border:none !important;\" data-html=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 onload=\"this.contentDocument.open();this.contentDocument.write(atob(this.getAttribute('data-html')));this.contentDocument.close();\" allowfullscreen webkitallowfullscreen mozallowfullscreen></iframe></div></div>"
            ],
            "text/plain": [
              "<folium.folium.Map at 0x7fa1b6270710>"
            ]
          },
          "metadata": {
            "tags": []
          }
        }
      ]
    },
    {
      "cell_type": "code",
      "metadata": {
        "id": "vIDf_3FvDJWA"
      },
      "source": [
        "collectionVV = ee.ImageCollection('COPERNICUS/S1_GRD').filter(ee.Filter.eq('instrumentMode', 'IW')).filter(ee.Filter.listContains('transmitterReceiverPolarisation', 'VV')).filter(ee.Filter.eq('orbitProperties_pass', 'DESCENDING')).filterBounds(AOI).filter(dry2019Filter).select(['VV']);\n",
        "\n",
        "collectionVH = ee.ImageCollection('COPERNICUS/S1_GRD').filter(ee.Filter.eq('instrumentMode', 'IW')).filter(ee.Filter.listContains('transmitterReceiverPolarisation', 'VH')).filter(ee.Filter.eq('orbitProperties_pass', 'DESCENDING')).filterBounds(AOI).filter(dry2019Filter).select(['VH']);\n",
        "\n",
        "VV = ee.Image(collectionVV.median()).clip(AOI).rename('VV');\n",
        "VH = ee.Image(collectionVH.median()).clip(AOI).rename('VH');\n",
        "\n",
        "\n",
        "\n",
        "S1 = VV.addBands(VH)\n",
        "S1 = S1.updateMask(mask_2019)"
      ],
      "execution_count": null,
      "outputs": []
    },
    {
      "cell_type": "code",
      "metadata": {
        "id": "6DCTLoXMJwoM"
      },
      "source": [
        "full_image = img.addBands(S1).addBands(heigth.select('b1').float().rename('GFCH'))"
      ],
      "execution_count": null,
      "outputs": []
    },
    {
      "cell_type": "code",
      "metadata": {
        "id": "trYYlnULS7Us"
      },
      "source": [
        "list_bands = full_image.bandNames().getInfo()"
      ],
      "execution_count": null,
      "outputs": []
    },
    {
      "cell_type": "code",
      "metadata": {
        "id": "jQIuO0IOSrLf"
      },
      "source": [
        "collect = ee.ImageCollection([])\n",
        "for i in range(len(list_bands)):\n",
        "  band = full_image.select([list_bands[i]]).rename('B0').set('band',i)\n",
        "  collectionFromImages = ee.ImageCollection.fromImages([band])\n",
        "  collect = collect.merge(collectionFromImages)"
      ],
      "execution_count": null,
      "outputs": []
    },
    {
      "cell_type": "code",
      "metadata": {
        "id": "Uk10TQJ-Z9Wk",
        "outputId": "c57b3426-faf1-4f3f-d56f-8218244b0626",
        "colab": {
          "base_uri": "https://localhost:8080/",
          "height": 1000
        }
      },
      "source": [
        "df_points = pd.DataFrame([])\n",
        "for n in range(1,samples.size().getInfo() + 1):\n",
        "  feat = ee.Geometry.Point(samples.getInfo()[\"features\"][n-1]['geometry']['coordinates'])\n",
        "  print(n)\n",
        "  point_ndvi = chart.Image.series(**{'imageCollection': collect,\n",
        "                                   'region': feat,\n",
        "                                   'reducer': ee.Reducer.mean(),\n",
        "                                   'bands' : 'B0',\n",
        "                                   'scale': 20,\n",
        "                                   'xProperty': 'band'})\n",
        "  df = point_ndvi.dataframe\n",
        "  df = df.transpose().copy() \n",
        "  df_points = df_points.append(df, ignore_index=True)"
      ],
      "execution_count": null,
      "outputs": [
        {
          "output_type": "stream",
          "text": [
            "1\n",
            "2\n",
            "3\n",
            "4\n",
            "5\n",
            "6\n",
            "7\n",
            "8\n",
            "9\n",
            "10\n",
            "11\n",
            "12\n",
            "13\n",
            "14\n",
            "15\n",
            "16\n",
            "17\n",
            "18\n",
            "19\n",
            "20\n",
            "21\n",
            "22\n",
            "23\n",
            "24\n",
            "25\n",
            "26\n",
            "27\n",
            "28\n",
            "29\n",
            "30\n",
            "31\n",
            "32\n",
            "33\n",
            "34\n",
            "35\n",
            "36\n",
            "37\n",
            "38\n",
            "39\n",
            "40\n",
            "41\n",
            "42\n",
            "43\n",
            "44\n",
            "45\n",
            "46\n",
            "47\n",
            "48\n",
            "49\n",
            "50\n",
            "51\n",
            "52\n",
            "53\n",
            "54\n",
            "55\n",
            "56\n",
            "57\n",
            "58\n",
            "59\n",
            "60\n",
            "61\n",
            "62\n",
            "63\n",
            "64\n",
            "65\n",
            "66\n",
            "67\n",
            "68\n",
            "69\n",
            "70\n",
            "71\n",
            "72\n",
            "73\n",
            "74\n",
            "75\n",
            "76\n",
            "77\n",
            "78\n",
            "79\n",
            "80\n",
            "81\n",
            "82\n",
            "83\n",
            "84\n",
            "85\n",
            "86\n",
            "87\n",
            "88\n",
            "89\n",
            "90\n",
            "91\n",
            "92\n",
            "93\n",
            "94\n",
            "95\n",
            "96\n",
            "97\n",
            "98\n",
            "99\n",
            "100\n",
            "101\n",
            "102\n",
            "103\n",
            "104\n",
            "105\n",
            "106\n",
            "107\n",
            "108\n",
            "109\n",
            "110\n",
            "111\n",
            "112\n",
            "113\n",
            "114\n",
            "115\n",
            "116\n",
            "117\n",
            "118\n",
            "119\n",
            "120\n",
            "121\n",
            "122\n",
            "123\n",
            "124\n",
            "125\n",
            "126\n",
            "127\n",
            "128\n",
            "129\n",
            "130\n",
            "131\n",
            "132\n",
            "133\n",
            "134\n",
            "135\n",
            "136\n",
            "137\n",
            "138\n",
            "139\n",
            "140\n",
            "141\n",
            "142\n",
            "143\n",
            "144\n",
            "145\n",
            "146\n",
            "147\n",
            "148\n",
            "149\n",
            "150\n",
            "151\n",
            "152\n",
            "153\n",
            "154\n",
            "155\n",
            "156\n",
            "157\n",
            "158\n",
            "159\n",
            "160\n",
            "161\n",
            "162\n",
            "163\n",
            "164\n",
            "165\n",
            "166\n",
            "167\n",
            "168\n",
            "169\n",
            "170\n",
            "171\n",
            "172\n",
            "173\n",
            "174\n",
            "175\n",
            "176\n",
            "177\n",
            "178\n",
            "179\n",
            "180\n",
            "181\n",
            "182\n",
            "183\n",
            "184\n",
            "185\n",
            "186\n",
            "187\n",
            "188\n",
            "189\n",
            "190\n",
            "191\n",
            "192\n",
            "193\n",
            "194\n",
            "195\n",
            "196\n",
            "197\n",
            "198\n",
            "199\n",
            "200\n",
            "201\n",
            "202\n",
            "203\n",
            "204\n",
            "205\n",
            "206\n",
            "207\n",
            "208\n",
            "209\n",
            "210\n",
            "211\n",
            "212\n",
            "213\n",
            "214\n",
            "215\n",
            "216\n",
            "217\n",
            "218\n",
            "219\n",
            "220\n",
            "221\n",
            "222\n",
            "223\n",
            "224\n",
            "225\n",
            "226\n",
            "227\n",
            "228\n",
            "229\n",
            "230\n",
            "231\n",
            "232\n",
            "233\n",
            "234\n",
            "235\n",
            "236\n",
            "237\n",
            "238\n",
            "239\n",
            "240\n",
            "241\n",
            "242\n",
            "243\n",
            "244\n",
            "245\n",
            "246\n",
            "247\n",
            "248\n",
            "249\n",
            "250\n",
            "251\n",
            "252\n",
            "253\n",
            "254\n",
            "255\n",
            "256\n",
            "257\n",
            "258\n",
            "259\n",
            "260\n",
            "261\n",
            "262\n",
            "263\n",
            "264\n"
          ],
          "name": "stdout"
        }
      ]
    },
    {
      "cell_type": "code",
      "metadata": {
        "id": "WnwuDGYzaSBm"
      },
      "source": [
        "df_points.rename(columns=lambda s: list_bands[s], inplace=True)"
      ],
      "execution_count": null,
      "outputs": []
    },
    {
      "cell_type": "code",
      "metadata": {
        "id": "dwX4syRwIMkD",
        "outputId": "69dcdfc0-255f-4113-b3b7-fedc401cadfd",
        "colab": {
          "base_uri": "https://localhost:8080/",
          "height": 166
        }
      },
      "source": [
        "df_points"
      ],
      "execution_count": 2,
      "outputs": [
        {
          "output_type": "error",
          "ename": "NameError",
          "evalue": "ignored",
          "traceback": [
            "\u001b[0;31m---------------------------------------------------------------------------\u001b[0m",
            "\u001b[0;31mNameError\u001b[0m                                 Traceback (most recent call last)",
            "\u001b[0;32m<ipython-input-2-4f7be5cedb95>\u001b[0m in \u001b[0;36m<module>\u001b[0;34m()\u001b[0m\n\u001b[0;32m----> 1\u001b[0;31m \u001b[0mdf_points\u001b[0m\u001b[0;34m\u001b[0m\u001b[0;34m\u001b[0m\u001b[0m\n\u001b[0m",
            "\u001b[0;31mNameError\u001b[0m: name 'df_points' is not defined"
          ]
        }
      ]
    },
    {
      "cell_type": "code",
      "metadata": {
        "id": "AzPsrYn2A81k"
      },
      "source": [
        "sns.set_style(style=\"darkgrid\")"
      ],
      "execution_count": null,
      "outputs": []
    },
    {
      "cell_type": "code",
      "metadata": {
        "id": "yfzFyw8bd73t",
        "outputId": "396c8e64-9003-45ec-b453-627632bade8c",
        "colab": {
          "base_uri": "https://localhost:8080/",
          "height": 387
        }
      },
      "source": [
        "sns.pairplot(df_points, x_vars=list_bands[0:6], y_vars=list_bands[-1],\n",
        "             height=5, aspect=.8, kind=\"reg\");"
      ],
      "execution_count": null,
      "outputs": [
        {
          "output_type": "display_data",
          "data": {
            "image/png": "[encoded data removed]",
            "text/plain": [
              "<Figure size 1728x360 with 6 Axes>"
            ]
          },
          "metadata": {
            "tags": []
          }
        }
      ]
    },
    {
      "cell_type": "code",
      "metadata": {
        "id": "auzUQrXDADeg",
        "outputId": "b02ba788-128b-4e5e-a0f0-f7ca41883ad3",
        "colab": {
          "base_uri": "https://localhost:8080/",
          "height": 387
        }
      },
      "source": [
        "sns.pairplot(df_points, x_vars=list_bands[6:-1], y_vars=list_bands[-1],\n",
        "             height=5, aspect=.8, kind=\"reg\");\n"
      ],
      "execution_count": null,
      "outputs": [
        {
          "output_type": "display_data",
          "data": {
            "image/png": "[encoded data removed]",
            "text/plain": [
              "<Figure size 1728x360 with 6 Axes>"
            ]
          },
          "metadata": {
            "tags": []
          }
        }
      ]
    },
    {
      "cell_type": "code",
      "metadata": {
        "id": "hFtVLk6tKQ3j"
      },
      "source": [
        "X = df_points[list_bands[0:-1]].values\n",
        "y = df_points[list_bands[-1]].values"
      ],
      "execution_count": null,
      "outputs": []
    },
    {
      "cell_type": "code",
      "metadata": {
        "id": "vH085AcfoU5u"
      },
      "source": [
        "X_train, X_test, y_train, y_test = train_test_split(X, y, test_size=0.3, random_state=42)"
      ],
      "execution_count": null,
      "outputs": []
    },
    {
      "cell_type": "code",
      "metadata": {
        "id": "rbyVnMPen0uk"
      },
      "source": [
        "X_s = StandardScaler()\n",
        "X_train = X_s.fit_transform(X_train)\n",
        "X_test = X_s.fit_transform(X_test)"
      ],
      "execution_count": null,
      "outputs": []
    },
    {
      "cell_type": "markdown",
      "metadata": {
        "id": "lLHTYICnpr1L"
      },
      "source": [
        "Linear Regression"
      ]
    },
    {
      "cell_type": "code",
      "metadata": {
        "id": "h03wA29ghxmt",
        "outputId": "8272fe6e-b8ca-4cf3-c3e3-aa281605e95f",
        "colab": {
          "base_uri": "https://localhost:8080/",
          "height": 34
        }
      },
      "source": [
        "Linear_regressor = LinearRegression()  \n",
        "Linear_regressor.fit(X_train, y_train)"
      ],
      "execution_count": null,
      "outputs": [
        {
          "output_type": "execute_result",
          "data": {
            "text/plain": [
              "LinearRegression(copy_X=True, fit_intercept=True, n_jobs=None, normalize=False)"
            ]
          },
          "metadata": {
            "tags": []
          },
          "execution_count": 197
        }
      ]
    },
    {
      "cell_type": "code",
      "metadata": {
        "id": "XBC6V3J6hxqB"
      },
      "source": [
        "y_pred = Linear_regressor.predict(X_test)"
      ],
      "execution_count": null,
      "outputs": []
    },
    {
      "cell_type": "code",
      "metadata": {
        "id": "LC19pRAWhxu-",
        "outputId": "03beab3c-d04e-4338-f2ed-59bf6a4b5b8e",
        "colab": {
          "base_uri": "https://localhost:8080/",
          "height": 68
        }
      },
      "source": [
        "print('Mean Absolute Error:', metrics.mean_absolute_error(y_test, y_pred))  \n",
        "print('Mean Squared Error:', metrics.mean_squared_error(y_test, y_pred))  \n",
        "print('Root Mean Squared Error:', np.sqrt(metrics.mean_squared_error(y_test, y_pred)))"
      ],
      "execution_count": null,
      "outputs": [
        {
          "output_type": "stream",
          "text": [
            "Mean Absolute Error: 4.144123043675007\n",
            "Mean Squared Error: 28.168273176052264\n",
            "Root Mean Squared Error: 5.30737912495916\n"
          ],
          "name": "stdout"
        }
      ]
    },
    {
      "cell_type": "code",
      "metadata": {
        "id": "N47EfK64hxx8",
        "outputId": "f016bdae-fb00-44c2-ff5e-fac097dea8fd",
        "colab": {
          "base_uri": "https://localhost:8080/",
          "height": 313
        }
      },
      "source": [
        "lr_graph = sns.regplot(x=y_test, y=y_pred, truncate=False)\n",
        "lr_graph.set(xlabel=\"Measured\", ylabel = \"Predicted\")\n",
        "lr_graph.set_title('Linear Regression', fontsize=14)"
      ],
      "execution_count": null,
      "outputs": [
        {
          "output_type": "execute_result",
          "data": {
            "text/plain": [
              "Text(0.5, 1.0, 'Linear Regression')"
            ]
          },
          "metadata": {
            "tags": []
          },
          "execution_count": 200
        },
        {
          "output_type": "display_data",
          "data": {
            "image/png": "[encoded data removed]",
            "text/plain": [
              "<Figure size 432x288 with 1 Axes>"
            ]
          },
          "metadata": {
            "tags": []
          }
        }
      ]
    },
    {
      "cell_type": "markdown",
      "metadata": {
        "id": "yO_WG6RgrQi3"
      },
      "source": [
        "Huber Regression"
      ]
    },
    {
      "cell_type": "code",
      "metadata": {
        "id": "eRurBos2rPKV",
        "outputId": "e7785bf9-61a5-4fad-8c97-a8d969b14127",
        "colab": {
          "base_uri": "https://localhost:8080/",
          "height": 51
        }
      },
      "source": [
        "Huberregressor = HuberRegressor(max_iter=200, alpha=0.001)\n",
        "Huberregressor.fit(X_train, y_train)"
      ],
      "execution_count": null,
      "outputs": [
        {
          "output_type": "execute_result",
          "data": {
            "text/plain": [
              "HuberRegressor(alpha=0.001, epsilon=1.35, fit_intercept=True, max_iter=200,\n",
              "               tol=1e-05, warm_start=False)"
            ]
          },
          "metadata": {
            "tags": []
          },
          "execution_count": 201
        }
      ]
    },
    {
      "cell_type": "code",
      "metadata": {
        "id": "Ia_G8caGrP0Y"
      },
      "source": [
        "y_pred = Huberregressor.predict(X_test)"
      ],
      "execution_count": null,
      "outputs": []
    },
    {
      "cell_type": "code",
      "metadata": {
        "id": "MKS4KX0vrP3g",
        "outputId": "0a6aef0c-8013-406b-c599-177d624ec36a",
        "colab": {
          "base_uri": "https://localhost:8080/",
          "height": 68
        }
      },
      "source": [
        "print('Mean Absolute Error:', metrics.mean_absolute_error(y_test, y_pred))  \n",
        "print('Mean Squared Error:', metrics.mean_squared_error(y_test, y_pred))  \n",
        "print('Root Mean Squared Error:', np.sqrt(metrics.mean_squared_error(y_test, y_pred)))"
      ],
      "execution_count": null,
      "outputs": [
        {
          "output_type": "stream",
          "text": [
            "Mean Absolute Error: 4.254860815944538\n",
            "Mean Squared Error: 31.531554052562694\n",
            "Root Mean Squared Error: 5.6152964349678545\n"
          ],
          "name": "stdout"
        }
      ]
    },
    {
      "cell_type": "code",
      "metadata": {
        "id": "B2ICisMPrwd0",
        "outputId": "36673e55-544c-4502-a9af-bad1d51b22cb",
        "colab": {
          "base_uri": "https://localhost:8080/",
          "height": 313
        }
      },
      "source": [
        "lr_graph = sns.regplot(x=y_test, y=y_pred, truncate=False)\n",
        "lr_graph.set(xlabel=\"Measured\", ylabel = \"Predicted\")\n",
        "lr_graph.set_title('Huber Regression', fontsize=14)"
      ],
      "execution_count": null,
      "outputs": [
        {
          "output_type": "execute_result",
          "data": {
            "text/plain": [
              "Text(0.5, 1.0, 'Huber Regression')"
            ]
          },
          "metadata": {
            "tags": []
          },
          "execution_count": 204
        },
        {
          "output_type": "display_data",
          "data": {
            "image/png": "[encoded data removed]",
            "text/plain": [
              "<Figure size 432x288 with 1 Axes>"
            ]
          },
          "metadata": {
            "tags": []
          }
        }
      ]
    },
    {
      "cell_type": "markdown",
      "metadata": {
        "id": "w_T-EIFxpc3S"
      },
      "source": [
        "SVR rbf"
      ]
    },
    {
      "cell_type": "code",
      "metadata": {
        "id": "BLXFPlvnhx2e",
        "outputId": "90bdc339-eb5f-432b-a14c-3a0de2efbfeb",
        "colab": {
          "base_uri": "https://localhost:8080/",
          "height": 51
        }
      },
      "source": [
        "SVR_rbf = SVR(kernel='rbf', C=100, gamma=0.1, epsilon=.1)\n",
        "SVR_rbf.fit(X_train, y_train)"
      ],
      "execution_count": null,
      "outputs": [
        {
          "output_type": "execute_result",
          "data": {
            "text/plain": [
              "SVR(C=100, cache_size=200, coef0=0.0, degree=3, epsilon=0.1, gamma=0.1,\n",
              "    kernel='rbf', max_iter=-1, shrinking=True, tol=0.001, verbose=False)"
            ]
          },
          "metadata": {
            "tags": []
          },
          "execution_count": 205
        }
      ]
    },
    {
      "cell_type": "code",
      "metadata": {
        "id": "j2Cwg7FFbimT"
      },
      "source": [
        "y_pred = SVR_rbf.predict(X_test)"
      ],
      "execution_count": null,
      "outputs": []
    },
    {
      "cell_type": "code",
      "metadata": {
        "id": "iUKtwRvdcz8j"
      },
      "source": [
        "df = pd.DataFrame({'Actual': y_test, 'Predicted': y_pred})"
      ],
      "execution_count": null,
      "outputs": []
    },
    {
      "cell_type": "code",
      "metadata": {
        "id": "7cJVD0CIdUPW",
        "outputId": "e5c36406-d31b-4345-d406-740120e10fe8",
        "colab": {
          "base_uri": "https://localhost:8080/",
          "height": 204
        }
      },
      "source": [
        "df.head()"
      ],
      "execution_count": null,
      "outputs": [
        {
          "output_type": "execute_result",
          "data": {
            "text/html": [
              "<div>\n",
              "<style scoped>\n",
              "    .dataframe tbody tr th:only-of-type {\n",
              "        vertical-align: middle;\n",
              "    }\n",
              "\n",
              "    .dataframe tbody tr th {\n",
              "        vertical-align: top;\n",
              "    }\n",
              "\n",
              "    .dataframe thead th {\n",
              "        text-align: right;\n",
              "    }\n",
              "</style>\n",
              "<table border=\"1\" class=\"dataframe\">\n",
              "  <thead>\n",
              "    <tr style=\"text-align: right;\">\n",
              "      <th></th>\n",
              "      <th>Actual</th>\n",
              "      <th>Predicted</th>\n",
              "    </tr>\n",
              "  </thead>\n",
              "  <tbody>\n",
              "    <tr>\n",
              "      <th>0</th>\n",
              "      <td>4.0</td>\n",
              "      <td>4.570106</td>\n",
              "    </tr>\n",
              "    <tr>\n",
              "      <th>1</th>\n",
              "      <td>22.0</td>\n",
              "      <td>22.178910</td>\n",
              "    </tr>\n",
              "    <tr>\n",
              "      <th>2</th>\n",
              "      <td>8.0</td>\n",
              "      <td>16.120141</td>\n",
              "    </tr>\n",
              "    <tr>\n",
              "      <th>3</th>\n",
              "      <td>19.0</td>\n",
              "      <td>26.114990</td>\n",
              "    </tr>\n",
              "    <tr>\n",
              "      <th>4</th>\n",
              "      <td>21.0</td>\n",
              "      <td>19.052814</td>\n",
              "    </tr>\n",
              "  </tbody>\n",
              "</table>\n",
              "</div>"
            ],
            "text/plain": [
              "   Actual  Predicted\n",
              "0     4.0   4.570106\n",
              "1    22.0  22.178910\n",
              "2     8.0  16.120141\n",
              "3    19.0  26.114990\n",
              "4    21.0  19.052814"
            ]
          },
          "metadata": {
            "tags": []
          },
          "execution_count": 208
        }
      ]
    },
    {
      "cell_type": "code",
      "metadata": {
        "id": "mdnQhfHWbixF",
        "outputId": "4b8aa5ad-e78d-4f7a-986c-4c21fc450bf3",
        "colab": {
          "base_uri": "https://localhost:8080/",
          "height": 68
        }
      },
      "source": [
        "print('Mean Absolute Error:', metrics.mean_absolute_error(y_test, y_pred))  \n",
        "print('Mean Squared Error:', metrics.mean_squared_error(y_test, y_pred))  \n",
        "print('Root Mean Squared Error:', np.sqrt(metrics.mean_squared_error(y_test, y_pred)))"
      ],
      "execution_count": null,
      "outputs": [
        {
          "output_type": "stream",
          "text": [
            "Mean Absolute Error: 2.8639461470887526\n",
            "Mean Squared Error: 19.11315747329627\n",
            "Root Mean Squared Error: 4.371859727083689\n"
          ],
          "name": "stdout"
        }
      ]
    },
    {
      "cell_type": "code",
      "metadata": {
        "id": "1w9rhGb4bip2",
        "outputId": "fcc862f9-c0f8-47ad-9bbe-8a70b1f2a6c4",
        "colab": {
          "base_uri": "https://localhost:8080/",
          "height": 313
        }
      },
      "source": [
        "lr_graph = sns.regplot(x=y_test, y=y_pred, truncate=False)\n",
        "lr_graph.set(xlabel=\"Measured\", ylabel = \"Predicted\")\n",
        "lr_graph.set_title('SVR rbf Regression', fontsize=14)"
      ],
      "execution_count": null,
      "outputs": [
        {
          "output_type": "execute_result",
          "data": {
            "text/plain": [
              "Text(0.5, 1.0, 'SVR rbf Regression')"
            ]
          },
          "metadata": {
            "tags": []
          },
          "execution_count": 210
        },
        {
          "output_type": "display_data",
          "data": {
            "image/png": "[encoded data removed]",
            "text/plain": [
              "<Figure size 432x288 with 1 Axes>"
            ]
          },
          "metadata": {
            "tags": []
          }
        }
      ]
    },
    {
      "cell_type": "markdown",
      "metadata": {
        "id": "yvADLUH6rHx6"
      },
      "source": [
        "SVR poly"
      ]
    },
    {
      "cell_type": "code",
      "metadata": {
        "id": "FbXWzzpWq8q-"
      },
      "source": [
        "SVR_poly = SVR(kernel='poly', C=10, gamma='auto', degree=2, epsilon=.1, coef0=1)"
      ],
      "execution_count": null,
      "outputs": []
    },
    {
      "cell_type": "code",
      "metadata": {
        "id": "t9C9SZEBrAIi",
        "outputId": "ef82339f-61b6-4552-d0d4-d80c3a5327ec",
        "colab": {
          "base_uri": "https://localhost:8080/",
          "height": 51
        }
      },
      "source": [
        "SVR_poly.fit(X_train, y_train)"
      ],
      "execution_count": null,
      "outputs": [
        {
          "output_type": "execute_result",
          "data": {
            "text/plain": [
              "SVR(C=10, cache_size=200, coef0=1, degree=2, epsilon=0.1, gamma='auto',\n",
              "    kernel='poly', max_iter=-1, shrinking=True, tol=0.001, verbose=False)"
            ]
          },
          "metadata": {
            "tags": []
          },
          "execution_count": 212
        }
      ]
    },
    {
      "cell_type": "code",
      "metadata": {
        "id": "BZGa-QA0qr31"
      },
      "source": [
        "y_pred = SVR_poly.predict(X_test)"
      ],
      "execution_count": null,
      "outputs": []
    },
    {
      "cell_type": "code",
      "metadata": {
        "id": "78gBLRydqv5t",
        "outputId": "a0fde610-9009-46ff-89d5-026de60506fa",
        "colab": {
          "base_uri": "https://localhost:8080/",
          "height": 68
        }
      },
      "source": [
        "print('Mean Absolute Error:', metrics.mean_absolute_error(y_test, y_pred))  \n",
        "print('Mean Squared Error:', metrics.mean_squared_error(y_test, y_pred))  \n",
        "print('Root Mean Squared Error:', np.sqrt(metrics.mean_squared_error(y_test, y_pred)))"
      ],
      "execution_count": null,
      "outputs": [
        {
          "output_type": "stream",
          "text": [
            "Mean Absolute Error: 3.3720961495995825\n",
            "Mean Squared Error: 22.9374255621529\n",
            "Root Mean Squared Error: 4.78930324391272\n"
          ],
          "name": "stdout"
        }
      ]
    },
    {
      "cell_type": "code",
      "metadata": {
        "id": "B3OpdqRutG5M",
        "outputId": "3ac1342e-f130-4b92-f4d4-bfd96aff4a1d",
        "colab": {
          "base_uri": "https://localhost:8080/",
          "height": 313
        }
      },
      "source": [
        "lr_graph = sns.regplot(x=y_test, y=y_pred, truncate=False)\n",
        "lr_graph.set(xlabel=\"Measured\", ylabel = \"Predicted\")\n",
        "lr_graph.set_title('SVR Poly Regression', fontsize=14)"
      ],
      "execution_count": null,
      "outputs": [
        {
          "output_type": "execute_result",
          "data": {
            "text/plain": [
              "Text(0.5, 1.0, 'SVR Poly Regression')"
            ]
          },
          "metadata": {
            "tags": []
          },
          "execution_count": 215
        },
        {
          "output_type": "display_data",
          "data": {
            "image/png": "[encoded data removed]",
            "text/plain": [
              "<Figure size 432x288 with 1 Axes>"
            ]
          },
          "metadata": {
            "tags": []
          }
        }
      ]
    },
    {
      "cell_type": "markdown",
      "metadata": {
        "id": "upsKlKLqsZDa"
      },
      "source": [
        "Decision Tree Regressor"
      ]
    },
    {
      "cell_type": "code",
      "metadata": {
        "id": "YP8r9Ue-qv-v",
        "outputId": "4248d87b-1faf-42fa-f4f1-b94aaab65bec",
        "colab": {
          "base_uri": "https://localhost:8080/",
          "height": 119
        }
      },
      "source": [
        "DT_regressor = DecisionTreeRegressor(random_state = 10, min_samples_leaf = 1, max_depth=4)\n",
        "DT_regressor.fit(X_train, y_train)"
      ],
      "execution_count": null,
      "outputs": [
        {
          "output_type": "execute_result",
          "data": {
            "text/plain": [
              "DecisionTreeRegressor(ccp_alpha=0.0, criterion='mse', max_depth=4,\n",
              "                      max_features=None, max_leaf_nodes=None,\n",
              "                      min_impurity_decrease=0.0, min_impurity_split=None,\n",
              "                      min_samples_leaf=1, min_samples_split=2,\n",
              "                      min_weight_fraction_leaf=0.0, presort='deprecated',\n",
              "                      random_state=10, splitter='best')"
            ]
          },
          "metadata": {
            "tags": []
          },
          "execution_count": 216
        }
      ]
    },
    {
      "cell_type": "code",
      "metadata": {
        "id": "WcEkfQywqwDT"
      },
      "source": [
        "y_pred = DT_regressor.predict(X_test)"
      ],
      "execution_count": null,
      "outputs": []
    },
    {
      "cell_type": "code",
      "metadata": {
        "id": "Bb8Wm07sqwB7",
        "outputId": "da447f51-5a26-4319-c21e-fcaac78cd28f",
        "colab": {
          "base_uri": "https://localhost:8080/",
          "height": 68
        }
      },
      "source": [
        "print('Mean Absolute Error:', metrics.mean_absolute_error(y_test, y_pred))  \n",
        "print('Mean Squared Error:', metrics.mean_squared_error(y_test, y_pred))  \n",
        "print('Root Mean Squared Error:', np.sqrt(metrics.mean_squared_error(y_test, y_pred)))"
      ],
      "execution_count": null,
      "outputs": [
        {
          "output_type": "stream",
          "text": [
            "Mean Absolute Error: 2.905561665037472\n",
            "Mean Squared Error: 22.295544854259347\n",
            "Root Mean Squared Error: 4.721815842899779\n"
          ],
          "name": "stdout"
        }
      ]
    },
    {
      "cell_type": "code",
      "metadata": {
        "id": "q0Nfe0fHqv8X",
        "outputId": "8b8fd461-deb7-4365-a00f-db0696b80a56",
        "colab": {
          "base_uri": "https://localhost:8080/",
          "height": 313
        }
      },
      "source": [
        "lr_graph = sns.regplot(x=y_test, y=y_pred, truncate=False)\n",
        "lr_graph.set(xlabel=\"Measured\", ylabel = \"Predicted\")\n",
        "lr_graph.set_title('Decision Tree Regression', fontsize=14)"
      ],
      "execution_count": null,
      "outputs": [
        {
          "output_type": "execute_result",
          "data": {
            "text/plain": [
              "Text(0.5, 1.0, 'Decision Tree Regression')"
            ]
          },
          "metadata": {
            "tags": []
          },
          "execution_count": 219
        },
        {
          "output_type": "display_data",
          "data": {
            "image/png": "[encoded data removed]",
            "text/plain": [
              "<Figure size 432x288 with 1 Axes>"
            ]
          },
          "metadata": {
            "tags": []
          }
        }
      ]
    },
    {
      "cell_type": "markdown",
      "metadata": {
        "id": "GMH9fWF2tplk"
      },
      "source": [
        "Random Forest Regression"
      ]
    },
    {
      "cell_type": "code",
      "metadata": {
        "id": "L4EkboSetorV",
        "outputId": "aff8533a-8110-4109-a757-7969f45436ab",
        "colab": {
          "base_uri": "https://localhost:8080/",
          "height": 136
        }
      },
      "source": [
        "RFR = RandomForestRegressor(n_estimators=500, max_depth=4, random_state=0)\n",
        "RFR.fit(X_train, y_train)"
      ],
      "execution_count": null,
      "outputs": [
        {
          "output_type": "execute_result",
          "data": {
            "text/plain": [
              "RandomForestRegressor(bootstrap=True, ccp_alpha=0.0, criterion='mse',\n",
              "                      max_depth=4, max_features='auto', max_leaf_nodes=None,\n",
              "                      max_samples=None, min_impurity_decrease=0.0,\n",
              "                      min_impurity_split=None, min_samples_leaf=1,\n",
              "                      min_samples_split=2, min_weight_fraction_leaf=0.0,\n",
              "                      n_estimators=500, n_jobs=None, oob_score=False,\n",
              "                      random_state=0, verbose=0, warm_start=False)"
            ]
          },
          "metadata": {
            "tags": []
          },
          "execution_count": 220
        }
      ]
    },
    {
      "cell_type": "code",
      "metadata": {
        "id": "iaNdRVYrWRrR"
      },
      "source": [
        "y_pred = RFR.predict(X_test)"
      ],
      "execution_count": null,
      "outputs": []
    },
    {
      "cell_type": "code",
      "metadata": {
        "id": "bETHQm7Fum4r",
        "outputId": "ed1e0a07-37a4-4898-b56b-15335a240b67",
        "colab": {
          "base_uri": "https://localhost:8080/",
          "height": 68
        }
      },
      "source": [
        "print('Mean Absolute Error:', metrics.mean_absolute_error(y_test, y_pred))  \n",
        "print('Mean Squared Error:', metrics.mean_squared_error(y_test, y_pred))  \n",
        "print('Root Mean Squared Error:', np.sqrt(metrics.mean_squared_error(y_test, y_pred)))"
      ],
      "execution_count": null,
      "outputs": [
        {
          "output_type": "stream",
          "text": [
            "Mean Absolute Error: 2.7538124276247427\n",
            "Mean Squared Error: 18.604005319123672\n",
            "Root Mean Squared Error: 4.313236061140599\n"
          ],
          "name": "stdout"
        }
      ]
    },
    {
      "cell_type": "code",
      "metadata": {
        "id": "FYr0sxoRu1aK",
        "outputId": "730727dd-50ad-4c65-fed6-9cd457329ca6",
        "colab": {
          "base_uri": "https://localhost:8080/",
          "height": 313
        }
      },
      "source": [
        "lr_graph = sns.regplot(x=y_test, y=y_pred, truncate=False)\n",
        "lr_graph.set(xlabel=\"Measured\", ylabel = \"Predicted\")\n",
        "lr_graph.set_title('Random Forest Regression', fontsize=14)"
      ],
      "execution_count": null,
      "outputs": [
        {
          "output_type": "execute_result",
          "data": {
            "text/plain": [
              "Text(0.5, 1.0, 'Random Forest Regression')"
            ]
          },
          "metadata": {
            "tags": []
          },
          "execution_count": 223
        },
        {
          "output_type": "display_data",
          "data": {
            "image/png": "[encoded data removed]",
            "text/plain": [
              "<Figure size 432x288 with 1 Axes>"
            ]
          },
          "metadata": {
            "tags": []
          }
        }
      ]
    },
    {
      "cell_type": "markdown",
      "metadata": {
        "id": "NIP6nFeitsq0"
      },
      "source": [
        "Gradient Booster Regressor"
      ]
    },
    {
      "cell_type": "code",
      "metadata": {
        "id": "qenj7WzEWtv_",
        "outputId": "055f111e-1af2-4528-e243-089c4c3f2389",
        "colab": {
          "base_uri": "https://localhost:8080/",
          "height": 170
        }
      },
      "source": [
        "GBR = GradientBoostingRegressor(n_estimators=500, learning_rate=0.01, max_depth=4, random_state=0, loss='ls')\n",
        "GBR.fit(X_train, y_train)"
      ],
      "execution_count": null,
      "outputs": [
        {
          "output_type": "execute_result",
          "data": {
            "text/plain": [
              "GradientBoostingRegressor(alpha=0.9, ccp_alpha=0.0, criterion='friedman_mse',\n",
              "                          init=None, learning_rate=0.01, loss='ls', max_depth=4,\n",
              "                          max_features=None, max_leaf_nodes=None,\n",
              "                          min_impurity_decrease=0.0, min_impurity_split=None,\n",
              "                          min_samples_leaf=1, min_samples_split=2,\n",
              "                          min_weight_fraction_leaf=0.0, n_estimators=500,\n",
              "                          n_iter_no_change=None, presort='deprecated',\n",
              "                          random_state=0, subsample=1.0, tol=0.0001,\n",
              "                          validation_fraction=0.1, verbose=0, warm_start=False)"
            ]
          },
          "metadata": {
            "tags": []
          },
          "execution_count": 224
        }
      ]
    },
    {
      "cell_type": "code",
      "metadata": {
        "id": "tlCv_CIHdUiB"
      },
      "source": [
        "y_pred = GBR.predict(X_test)"
      ],
      "execution_count": null,
      "outputs": []
    },
    {
      "cell_type": "code",
      "metadata": {
        "id": "sUK1yTMnuBx3",
        "outputId": "b11d86ac-7793-4daf-e292-fd7db53ff622",
        "colab": {
          "base_uri": "https://localhost:8080/",
          "height": 68
        }
      },
      "source": [
        "print('Mean Absolute Error:', metrics.mean_absolute_error(y_test, y_pred))  \n",
        "print('Mean Squared Error:', metrics.mean_squared_error(y_test, y_pred))  \n",
        "print('Root Mean Squared Error:', np.sqrt(metrics.mean_squared_error(y_test, y_pred)))"
      ],
      "execution_count": null,
      "outputs": [
        {
          "output_type": "stream",
          "text": [
            "Mean Absolute Error: 2.7485168370515076\n",
            "Mean Squared Error: 17.931998416848433\n",
            "Root Mean Squared Error: 4.234619040344531\n"
          ],
          "name": "stdout"
        }
      ]
    },
    {
      "cell_type": "code",
      "metadata": {
        "id": "C2PxazmSuDxV",
        "outputId": "a797afb5-232e-42f7-eae1-4fa481e7e304",
        "colab": {
          "base_uri": "https://localhost:8080/",
          "height": 313
        }
      },
      "source": [
        "lr_graph = sns.regplot(x=y_test, y=y_pred, truncate=False)\n",
        "lr_graph.set(xlabel=\"Measured\", ylabel = \"Predicted\")\n",
        "lr_graph.set_title('Gradient Booster Regression', fontsize=14)"
      ],
      "execution_count": null,
      "outputs": [
        {
          "output_type": "execute_result",
          "data": {
            "text/plain": [
              "Text(0.5, 1.0, 'Gradient Booster Regression')"
            ]
          },
          "metadata": {
            "tags": []
          },
          "execution_count": 227
        },
        {
          "output_type": "display_data",
          "data": {
            "image/png": "[encoded data removed]",
            "text/plain": [
              "<Figure size 432x288 with 1 Axes>"
            ]
          },
          "metadata": {
            "tags": []
          }
        }
      ]
    },
    {
      "cell_type": "markdown",
      "metadata": {
        "id": "92_c_5TDIjYT"
      },
      "source": [
        "SGD Regressor"
      ]
    },
    {
      "cell_type": "code",
      "metadata": {
        "id": "hB0uvQZAu4iI",
        "outputId": "8fb964fe-fe08-4e53-9678-21574e179fe3",
        "colab": {
          "base_uri": "https://localhost:8080/",
          "height": 119
        }
      },
      "source": [
        "SGDR = SGDRegressor(max_iter=1000, tol=1e-3)\n",
        "SGDR.fit(X_train, y_train)"
      ],
      "execution_count": null,
      "outputs": [
        {
          "output_type": "execute_result",
          "data": {
            "text/plain": [
              "SGDRegressor(alpha=0.0001, average=False, early_stopping=False, epsilon=0.1,\n",
              "             eta0=0.01, fit_intercept=True, l1_ratio=0.15,\n",
              "             learning_rate='invscaling', loss='squared_loss', max_iter=1000,\n",
              "             n_iter_no_change=5, penalty='l2', power_t=0.25, random_state=None,\n",
              "             shuffle=True, tol=0.001, validation_fraction=0.1, verbose=0,\n",
              "             warm_start=False)"
            ]
          },
          "metadata": {
            "tags": []
          },
          "execution_count": 228
        }
      ]
    },
    {
      "cell_type": "code",
      "metadata": {
        "id": "hmuopiL2I0V7"
      },
      "source": [
        "y_pred = SGDR.predict(X_test)"
      ],
      "execution_count": null,
      "outputs": []
    },
    {
      "cell_type": "code",
      "metadata": {
        "id": "0f6r4y-PI2lU",
        "outputId": "4d0ae0fa-48e2-4f28-ae8b-bad4906d5f15",
        "colab": {
          "base_uri": "https://localhost:8080/",
          "height": 68
        }
      },
      "source": [
        "print('Mean Absolute Error:', metrics.mean_absolute_error(y_test, y_pred))  \n",
        "print('Mean Squared Error:', metrics.mean_squared_error(y_test, y_pred))  \n",
        "print('Root Mean Squared Error:', np.sqrt(metrics.mean_squared_error(y_test, y_pred)))"
      ],
      "execution_count": null,
      "outputs": [
        {
          "output_type": "stream",
          "text": [
            "Mean Absolute Error: 4.314918314820239\n",
            "Mean Squared Error: 31.594556296238277\n",
            "Root Mean Squared Error: 5.620903512446934\n"
          ],
          "name": "stdout"
        }
      ]
    },
    {
      "cell_type": "code",
      "metadata": {
        "id": "KRGMSWIdI7Kf",
        "outputId": "0b04b912-0011-4289-fe1a-bdebcc00e7fa",
        "colab": {
          "base_uri": "https://localhost:8080/",
          "height": 313
        }
      },
      "source": [
        "lr_graph = sns.regplot(x=y_test, y=y_pred, truncate=False)\n",
        "lr_graph.set(xlabel=\"Measured\", ylabel = \"Predicted\")\n",
        "lr_graph.set_title('SGD Regression', fontsize=14)"
      ],
      "execution_count": null,
      "outputs": [
        {
          "output_type": "execute_result",
          "data": {
            "text/plain": [
              "Text(0.5, 1.0, 'SGD Regression')"
            ]
          },
          "metadata": {
            "tags": []
          },
          "execution_count": 231
        },
        {
          "output_type": "display_data",
          "data": {
            "image/png": "[encoded data removed]",
            "text/plain": [
              "<Figure size 432x288 with 1 Axes>"
            ]
          },
          "metadata": {
            "tags": []
          }
        }
      ]
    },
    {
      "cell_type": "markdown",
      "metadata": {
        "id": "NnQHb_TiJSCx"
      },
      "source": [
        "XGBoost Regression"
      ]
    },
    {
      "cell_type": "code",
      "metadata": {
        "id": "3qVYVg4BQP0r",
        "outputId": "ceea1c43-4222-4ded-b0c5-4558a512c8e2",
        "colab": {
          "base_uri": "https://localhost:8080/",
          "height": 68
        }
      },
      "source": [
        "!pip install xgboost"
      ],
      "execution_count": null,
      "outputs": [
        {
          "output_type": "stream",
          "text": [
            "Requirement already satisfied: xgboost in /usr/local/lib/python3.6/dist-packages (0.90)\n",
            "Requirement already satisfied: scipy in /usr/local/lib/python3.6/dist-packages (from xgboost) (1.4.1)\n",
            "Requirement already satisfied: numpy in /usr/local/lib/python3.6/dist-packages (from xgboost) (1.18.5)\n"
          ],
          "name": "stdout"
        }
      ]
    },
    {
      "cell_type": "code",
      "metadata": {
        "id": "4mtGCQmJQXDn"
      },
      "source": [
        "import xgboost as xgb"
      ],
      "execution_count": null,
      "outputs": []
    },
    {
      "cell_type": "code",
      "metadata": {
        "id": "phfan5G-JVBZ",
        "outputId": "809cb16d-ed2d-4cae-e258-b89598609df2",
        "colab": {
          "base_uri": "https://localhost:8080/",
          "height": 153
        }
      },
      "source": [
        "xg_reg = xgb.XGBRegressor(colsample_bytree=0.4,\n",
        "                 gamma=0,                 \n",
        "                 learning_rate=0.01,\n",
        "                 max_depth=4,\n",
        "                 min_child_weight=1.5,\n",
        "                 n_estimators=500,                                                                    \n",
        "                 reg_alpha=0.75,\n",
        "                 reg_lambda=0.45,\n",
        "                 subsample=0.6,\n",
        "                 seed=42)\n",
        "xg_reg.fit(X_train,y_train)"
      ],
      "execution_count": null,
      "outputs": [
        {
          "output_type": "stream",
          "text": [
            "[17:26:08] WARNING: /workspace/src/objective/regression_obj.cu:152: reg:linear is now deprecated in favor of reg:squarederror.\n"
          ],
          "name": "stdout"
        },
        {
          "output_type": "execute_result",
          "data": {
            "text/plain": [
              "XGBRegressor(base_score=0.5, booster='gbtree', colsample_bylevel=1,\n",
              "             colsample_bynode=1, colsample_bytree=0.4, gamma=0,\n",
              "             importance_type='gain', learning_rate=0.01, max_delta_step=0,\n",
              "             max_depth=4, min_child_weight=1.5, missing=None, n_estimators=500,\n",
              "             n_jobs=1, nthread=None, objective='reg:linear', random_state=0,\n",
              "             reg_alpha=0.75, reg_lambda=0.45, scale_pos_weight=1, seed=42,\n",
              "             silent=None, subsample=0.6, verbosity=1)"
            ]
          },
          "metadata": {
            "tags": []
          },
          "execution_count": 234
        }
      ]
    },
    {
      "cell_type": "code",
      "metadata": {
        "id": "WGNp5Bn3KhrA"
      },
      "source": [
        "y_pred = xg_reg.predict(X_test)"
      ],
      "execution_count": null,
      "outputs": []
    },
    {
      "cell_type": "code",
      "metadata": {
        "id": "U82TaOveKnre",
        "outputId": "b12c10d8-a649-4cae-8430-c54abcb89fab",
        "colab": {
          "base_uri": "https://localhost:8080/",
          "height": 68
        }
      },
      "source": [
        "print('Mean Absolute Error:', metrics.mean_absolute_error(y_test, y_pred))  \n",
        "print('Mean Squared Error:', metrics.mean_squared_error(y_test, y_pred))  \n",
        "print('Root Mean Squared Error:', np.sqrt(metrics.mean_squared_error(y_test, y_pred)))"
      ],
      "execution_count": null,
      "outputs": [
        {
          "output_type": "stream",
          "text": [
            "Mean Absolute Error: 2.7914707992225885\n",
            "Mean Squared Error: 18.382494237017482\n",
            "Root Mean Squared Error: 4.287481106316094\n"
          ],
          "name": "stdout"
        }
      ]
    },
    {
      "cell_type": "code",
      "metadata": {
        "id": "nGfWOAxYKoSS",
        "outputId": "3d1dab3e-a481-4c7b-bb6c-ef74aa0e6d43",
        "colab": {
          "base_uri": "https://localhost:8080/",
          "height": 313
        }
      },
      "source": [
        "lr_graph = sns.regplot(x=y_test, y=y_pred, truncate=False)\n",
        "lr_graph.set(xlabel=\"Measured\", ylabel = \"Predicted\")\n",
        "lr_graph.set_title('XGBoost Regression', fontsize=14)"
      ],
      "execution_count": null,
      "outputs": [
        {
          "output_type": "execute_result",
          "data": {
            "text/plain": [
              "Text(0.5, 1.0, 'XGBoost Regression')"
            ]
          },
          "metadata": {
            "tags": []
          },
          "execution_count": 237
        },
        {
          "output_type": "display_data",
          "data": {
            "image/png": "[encoded data removed]",
            "text/plain": [
              "<Figure size 432x288 with 1 Axes>"
            ]
          },
          "metadata": {
            "tags": []
          }
        }
      ]
    },
    {
      "cell_type": "markdown",
      "metadata": {
        "id": "A3chrikJI9aw"
      },
      "source": [
        "ANN Regression"
      ]
    },
    {
      "cell_type": "code",
      "metadata": {
        "id": "WyvZE_jHI8vX"
      },
      "source": [
        "from keras.models import Sequential\n",
        "from keras.layers import Dense"
      ],
      "execution_count": null,
      "outputs": []
    },
    {
      "cell_type": "code",
      "metadata": {
        "id": "HUj8WwxCQ_D9"
      },
      "source": [
        "model = Sequential()\n",
        "model.add(Dense(16, input_dim=12, kernel_initializer='normal', activation='relu'))\n",
        "model.add(Dense(8, kernel_initializer='normal', activation='relu'))\n",
        "model.add(Dense(4, kernel_initializer='normal', activation='relu'))\n",
        "model.add(Dense(1, kernel_initializer='normal'))\n",
        "model.compile(loss='mean_squared_error', optimizer='adam')"
      ],
      "execution_count": null,
      "outputs": []
    },
    {
      "cell_type": "code",
      "metadata": {
        "id": "Xws5_doNR4pc",
        "outputId": "2b2056ac-dd1f-4fef-b48c-d355668e46f1",
        "colab": {
          "base_uri": "https://localhost:8080/",
          "height": 1000
        }
      },
      "source": [
        "model.fit(X_train, y_train, batch_size = 10, epochs = 500)"
      ],
      "execution_count": null,
      "outputs": [
        {
          "output_type": "stream",
          "text": [
            "Epoch 1/500\n",
            "19/19 [==============================] - 0s 1ms/step - loss: 307.2421\n",
            "Epoch 2/500\n",
            "19/19 [==============================] - 0s 1ms/step - loss: 306.6190\n",
            "Epoch 3/500\n",
            "19/19 [==============================] - 0s 1ms/step - loss: 305.7994\n",
            "Epoch 4/500\n",
            "19/19 [==============================] - 0s 1ms/step - loss: 303.9461\n",
            "Epoch 5/500\n",
            "19/19 [==============================] - 0s 1ms/step - loss: 299.3564\n",
            "Epoch 6/500\n",
            "19/19 [==============================] - 0s 1ms/step - loss: 288.1972\n",
            "Epoch 7/500\n",
            "19/19 [==============================] - 0s 1ms/step - loss: 265.2383\n",
            "Epoch 8/500\n",
            "19/19 [==============================] - 0s 1ms/step - loss: 220.1384\n",
            "Epoch 9/500\n",
            "19/19 [==============================] - 0s 1ms/step - loss: 155.8001\n",
            "Epoch 10/500\n",
            "19/19 [==============================] - 0s 1ms/step - loss: 87.7213\n",
            "Epoch 11/500\n",
            "19/19 [==============================] - 0s 1ms/step - loss: 53.5360\n",
            "Epoch 12/500\n",
            "19/19 [==============================] - 0s 1ms/step - loss: 47.4606\n",
            "Epoch 13/500\n",
            "19/19 [==============================] - 0s 2ms/step - loss: 43.0632\n",
            "Epoch 14/500\n",
            "19/19 [==============================] - 0s 1ms/step - loss: 39.9931\n",
            "Epoch 15/500\n",
            "19/19 [==============================] - 0s 1ms/step - loss: 38.0403\n",
            "Epoch 16/500\n",
            "19/19 [==============================] - 0s 1ms/step - loss: 35.8331\n",
            "Epoch 17/500\n",
            "19/19 [==============================] - 0s 1ms/step - loss: 34.3816\n",
            "Epoch 18/500\n",
            "19/19 [==============================] - 0s 1ms/step - loss: 33.5046\n",
            "Epoch 19/500\n",
            "19/19 [==============================] - 0s 1ms/step - loss: 32.5839\n",
            "Epoch 20/500\n",
            "19/19 [==============================] - 0s 1ms/step - loss: 32.0537\n",
            "Epoch 21/500\n",
            "19/19 [==============================] - 0s 1ms/step - loss: 31.6041\n",
            "Epoch 22/500\n",
            "19/19 [==============================] - 0s 1ms/step - loss: 31.3933\n",
            "Epoch 23/500\n",
            "19/19 [==============================] - 0s 1ms/step - loss: 30.9204\n",
            "Epoch 24/500\n",
            "19/19 [==============================] - 0s 1ms/step - loss: 30.8915\n",
            "Epoch 25/500\n",
            "19/19 [==============================] - 0s 1ms/step - loss: 30.6542\n",
            "Epoch 26/500\n",
            "19/19 [==============================] - 0s 1ms/step - loss: 30.5779\n",
            "Epoch 27/500\n",
            "19/19 [==============================] - 0s 1ms/step - loss: 30.4462\n",
            "Epoch 28/500\n",
            "19/19 [==============================] - 0s 1ms/step - loss: 30.1880\n",
            "Epoch 29/500\n",
            "19/19 [==============================] - 0s 1ms/step - loss: 30.2050\n",
            "Epoch 30/500\n",
            "19/19 [==============================] - 0s 1ms/step - loss: 29.9473\n",
            "Epoch 31/500\n",
            "19/19 [==============================] - 0s 1ms/step - loss: 30.1531\n",
            "Epoch 32/500\n",
            "19/19 [==============================] - 0s 1ms/step - loss: 29.9170\n",
            "Epoch 33/500\n",
            "19/19 [==============================] - 0s 1ms/step - loss: 29.6820\n",
            "Epoch 34/500\n",
            "19/19 [==============================] - 0s 1ms/step - loss: 29.6234\n",
            "Epoch 35/500\n",
            "19/19 [==============================] - 0s 1ms/step - loss: 29.4812\n",
            "Epoch 36/500\n",
            "19/19 [==============================] - 0s 1ms/step - loss: 29.3279\n",
            "Epoch 37/500\n",
            "19/19 [==============================] - 0s 1ms/step - loss: 29.2846\n",
            "Epoch 38/500\n",
            "19/19 [==============================] - 0s 1ms/step - loss: 29.2134\n",
            "Epoch 39/500\n",
            "19/19 [==============================] - 0s 1000us/step - loss: 29.0564\n",
            "Epoch 40/500\n",
            "19/19 [==============================] - 0s 1ms/step - loss: 29.1364\n",
            "Epoch 41/500\n",
            "19/19 [==============================] - 0s 1ms/step - loss: 28.9513\n",
            "Epoch 42/500\n",
            "19/19 [==============================] - 0s 2ms/step - loss: 28.9344\n",
            "Epoch 43/500\n",
            "19/19 [==============================] - 0s 1ms/step - loss: 28.7393\n",
            "Epoch 44/500\n",
            "19/19 [==============================] - 0s 1ms/step - loss: 28.6892\n",
            "Epoch 45/500\n",
            "19/19 [==============================] - 0s 1ms/step - loss: 28.6725\n",
            "Epoch 46/500\n",
            "19/19 [==============================] - 0s 1ms/step - loss: 28.4966\n",
            "Epoch 47/500\n",
            "19/19 [==============================] - 0s 1ms/step - loss: 28.8987\n",
            "Epoch 48/500\n",
            "19/19 [==============================] - 0s 1ms/step - loss: 28.4196\n",
            "Epoch 49/500\n",
            "19/19 [==============================] - 0s 1ms/step - loss: 28.2951\n",
            "Epoch 50/500\n",
            "19/19 [==============================] - 0s 1ms/step - loss: 28.1793\n",
            "Epoch 51/500\n",
            "19/19 [==============================] - 0s 1ms/step - loss: 28.0989\n",
            "Epoch 52/500\n",
            "19/19 [==============================] - 0s 2ms/step - loss: 28.2034\n",
            "Epoch 53/500\n",
            "19/19 [==============================] - 0s 1ms/step - loss: 27.9710\n",
            "Epoch 54/500\n",
            "19/19 [==============================] - 0s 1ms/step - loss: 28.1011\n",
            "Epoch 55/500\n",
            "19/19 [==============================] - 0s 1ms/step - loss: 27.9492\n",
            "Epoch 56/500\n",
            "19/19 [==============================] - 0s 2ms/step - loss: 28.0793\n",
            "Epoch 57/500\n",
            "19/19 [==============================] - 0s 1ms/step - loss: 28.1048\n",
            "Epoch 58/500\n",
            "19/19 [==============================] - 0s 1ms/step - loss: 27.9295\n",
            "Epoch 59/500\n",
            "19/19 [==============================] - 0s 1ms/step - loss: 27.5723\n",
            "Epoch 60/500\n",
            "19/19 [==============================] - 0s 1ms/step - loss: 27.4874\n",
            "Epoch 61/500\n",
            "19/19 [==============================] - 0s 1ms/step - loss: 27.4442\n",
            "Epoch 62/500\n",
            "19/19 [==============================] - 0s 1ms/step - loss: 27.3730\n",
            "Epoch 63/500\n",
            "19/19 [==============================] - 0s 1ms/step - loss: 27.5599\n",
            "Epoch 64/500\n",
            "19/19 [==============================] - 0s 1ms/step - loss: 27.5899\n",
            "Epoch 65/500\n",
            "19/19 [==============================] - 0s 1ms/step - loss: 27.2009\n",
            "Epoch 66/500\n",
            "19/19 [==============================] - 0s 1ms/step - loss: 27.0906\n",
            "Epoch 67/500\n",
            "19/19 [==============================] - 0s 1ms/step - loss: 27.0510\n",
            "Epoch 68/500\n",
            "19/19 [==============================] - 0s 1ms/step - loss: 27.2946\n",
            "Epoch 69/500\n",
            "19/19 [==============================] - 0s 1ms/step - loss: 27.3245\n",
            "Epoch 70/500\n",
            "19/19 [==============================] - 0s 1ms/step - loss: 26.8404\n",
            "Epoch 71/500\n",
            "19/19 [==============================] - 0s 1ms/step - loss: 27.2252\n",
            "Epoch 72/500\n",
            "19/19 [==============================] - 0s 1ms/step - loss: 26.7959\n",
            "Epoch 73/500\n",
            "19/19 [==============================] - 0s 1ms/step - loss: 26.8067\n",
            "Epoch 74/500\n",
            "19/19 [==============================] - 0s 1ms/step - loss: 26.6754\n",
            "Epoch 75/500\n",
            "19/19 [==============================] - 0s 2ms/step - loss: 26.6716\n",
            "Epoch 76/500\n",
            "19/19 [==============================] - 0s 1ms/step - loss: 26.7589\n",
            "Epoch 77/500\n",
            "19/19 [==============================] - 0s 1ms/step - loss: 26.6731\n",
            "Epoch 78/500\n",
            "19/19 [==============================] - 0s 1ms/step - loss: 26.4205\n",
            "Epoch 79/500\n",
            "19/19 [==============================] - 0s 1ms/step - loss: 26.5920\n",
            "Epoch 80/500\n",
            "19/19 [==============================] - 0s 1ms/step - loss: 26.4335\n",
            "Epoch 81/500\n",
            "19/19 [==============================] - 0s 1ms/step - loss: 27.0248\n",
            "Epoch 82/500\n",
            "19/19 [==============================] - 0s 1ms/step - loss: 26.2032\n",
            "Epoch 83/500\n",
            "19/19 [==============================] - 0s 1ms/step - loss: 26.6100\n",
            "Epoch 84/500\n",
            "19/19 [==============================] - 0s 1ms/step - loss: 26.1007\n",
            "Epoch 85/500\n",
            "19/19 [==============================] - 0s 1ms/step - loss: 26.5396\n",
            "Epoch 86/500\n",
            "19/19 [==============================] - 0s 1ms/step - loss: 26.2713\n",
            "Epoch 87/500\n",
            "19/19 [==============================] - 0s 1ms/step - loss: 26.1707\n",
            "Epoch 88/500\n",
            "19/19 [==============================] - 0s 1ms/step - loss: 25.9718\n",
            "Epoch 89/500\n",
            "19/19 [==============================] - 0s 1ms/step - loss: 26.2051\n",
            "Epoch 90/500\n",
            "19/19 [==============================] - 0s 1ms/step - loss: 26.0614\n",
            "Epoch 91/500\n",
            "19/19 [==============================] - 0s 1ms/step - loss: 26.3465\n",
            "Epoch 92/500\n",
            "19/19 [==============================] - 0s 2ms/step - loss: 25.7727\n",
            "Epoch 93/500\n",
            "19/19 [==============================] - 0s 1ms/step - loss: 25.7556\n",
            "Epoch 94/500\n",
            "19/19 [==============================] - 0s 1ms/step - loss: 25.6827\n",
            "Epoch 95/500\n",
            "19/19 [==============================] - 0s 1ms/step - loss: 25.6597\n",
            "Epoch 96/500\n",
            "19/19 [==============================] - 0s 2ms/step - loss: 25.6337\n",
            "Epoch 97/500\n",
            "19/19 [==============================] - 0s 1ms/step - loss: 25.7004\n",
            "Epoch 98/500\n",
            "19/19 [==============================] - 0s 1ms/step - loss: 25.5627\n",
            "Epoch 99/500\n",
            "19/19 [==============================] - 0s 1ms/step - loss: 25.8374\n",
            "Epoch 100/500\n",
            "19/19 [==============================] - 0s 1ms/step - loss: 25.5688\n",
            "Epoch 101/500\n",
            "19/19 [==============================] - 0s 1ms/step - loss: 26.1214\n",
            "Epoch 102/500\n",
            "19/19 [==============================] - 0s 1ms/step - loss: 25.3871\n",
            "Epoch 103/500\n",
            "19/19 [==============================] - 0s 1ms/step - loss: 25.3453\n",
            "Epoch 104/500\n",
            "19/19 [==============================] - 0s 1ms/step - loss: 25.3368\n",
            "Epoch 105/500\n",
            "19/19 [==============================] - 0s 1ms/step - loss: 25.2987\n",
            "Epoch 106/500\n",
            "19/19 [==============================] - 0s 1ms/step - loss: 25.2302\n",
            "Epoch 107/500\n",
            "19/19 [==============================] - 0s 1ms/step - loss: 25.2832\n",
            "Epoch 108/500\n",
            "19/19 [==============================] - 0s 1ms/step - loss: 25.2530\n",
            "Epoch 109/500\n",
            "19/19 [==============================] - 0s 1ms/step - loss: 25.4668\n",
            "Epoch 110/500\n",
            "19/19 [==============================] - 0s 1ms/step - loss: 25.0508\n",
            "Epoch 111/500\n",
            "19/19 [==============================] - 0s 1ms/step - loss: 25.4270\n",
            "Epoch 112/500\n",
            "19/19 [==============================] - 0s 1ms/step - loss: 25.1680\n",
            "Epoch 113/500\n",
            "19/19 [==============================] - 0s 1ms/step - loss: 25.1357\n",
            "Epoch 114/500\n",
            "19/19 [==============================] - 0s 1ms/step - loss: 24.9727\n",
            "Epoch 115/500\n",
            "19/19 [==============================] - 0s 1ms/step - loss: 24.9727\n",
            "Epoch 116/500\n",
            "19/19 [==============================] - 0s 1ms/step - loss: 24.8669\n",
            "Epoch 117/500\n",
            "19/19 [==============================] - 0s 1ms/step - loss: 24.8938\n",
            "Epoch 118/500\n",
            "19/19 [==============================] - 0s 1ms/step - loss: 24.8962\n",
            "Epoch 119/500\n",
            "19/19 [==============================] - 0s 1ms/step - loss: 24.8326\n",
            "Epoch 120/500\n",
            "19/19 [==============================] - 0s 1ms/step - loss: 24.7871\n",
            "Epoch 121/500\n",
            "19/19 [==============================] - 0s 1ms/step - loss: 24.7590\n",
            "Epoch 122/500\n",
            "19/19 [==============================] - 0s 1ms/step - loss: 24.9505\n",
            "Epoch 123/500\n",
            "19/19 [==============================] - 0s 1ms/step - loss: 25.0361\n",
            "Epoch 124/500\n",
            "19/19 [==============================] - 0s 1ms/step - loss: 24.6507\n",
            "Epoch 125/500\n",
            "19/19 [==============================] - 0s 1ms/step - loss: 24.6528\n",
            "Epoch 126/500\n",
            "19/19 [==============================] - 0s 1ms/step - loss: 24.5498\n",
            "Epoch 127/500\n",
            "19/19 [==============================] - 0s 1ms/step - loss: 24.9493\n",
            "Epoch 128/500\n",
            "19/19 [==============================] - 0s 1ms/step - loss: 24.8109\n",
            "Epoch 129/500\n",
            "19/19 [==============================] - 0s 1ms/step - loss: 24.5849\n",
            "Epoch 130/500\n",
            "19/19 [==============================] - 0s 2ms/step - loss: 24.6047\n",
            "Epoch 131/500\n",
            "19/19 [==============================] - 0s 1ms/step - loss: 24.4295\n",
            "Epoch 132/500\n",
            "19/19 [==============================] - 0s 1ms/step - loss: 24.7463\n",
            "Epoch 133/500\n",
            "19/19 [==============================] - 0s 1ms/step - loss: 24.3240\n",
            "Epoch 134/500\n",
            "19/19 [==============================] - 0s 2ms/step - loss: 24.4239\n",
            "Epoch 135/500\n",
            "19/19 [==============================] - 0s 1ms/step - loss: 24.6200\n",
            "Epoch 136/500\n",
            "19/19 [==============================] - 0s 1ms/step - loss: 24.2482\n",
            "Epoch 137/500\n",
            "19/19 [==============================] - 0s 1ms/step - loss: 24.3633\n",
            "Epoch 138/500\n",
            "19/19 [==============================] - 0s 1ms/step - loss: 24.4889\n",
            "Epoch 139/500\n",
            "19/19 [==============================] - 0s 1ms/step - loss: 24.4993\n",
            "Epoch 140/500\n",
            "19/19 [==============================] - 0s 1ms/step - loss: 24.2210\n",
            "Epoch 141/500\n",
            "19/19 [==============================] - 0s 996us/step - loss: 24.3803\n",
            "Epoch 142/500\n",
            "19/19 [==============================] - 0s 1ms/step - loss: 24.5206\n",
            "Epoch 143/500\n",
            "19/19 [==============================] - 0s 1ms/step - loss: 24.3012\n",
            "Epoch 144/500\n",
            "19/19 [==============================] - 0s 1ms/step - loss: 24.1537\n",
            "Epoch 145/500\n",
            "19/19 [==============================] - 0s 1ms/step - loss: 24.1211\n",
            "Epoch 146/500\n",
            "19/19 [==============================] - 0s 1ms/step - loss: 24.0494\n",
            "Epoch 147/500\n",
            "19/19 [==============================] - 0s 1ms/step - loss: 24.0672\n",
            "Epoch 148/500\n",
            "19/19 [==============================] - 0s 1ms/step - loss: 24.0629\n",
            "Epoch 149/500\n",
            "19/19 [==============================] - 0s 1ms/step - loss: 24.0187\n",
            "Epoch 150/500\n",
            "19/19 [==============================] - 0s 1ms/step - loss: 24.0300\n",
            "Epoch 151/500\n",
            "19/19 [==============================] - 0s 1ms/step - loss: 24.0719\n",
            "Epoch 152/500\n",
            "19/19 [==============================] - 0s 1ms/step - loss: 23.9372\n",
            "Epoch 153/500\n",
            "19/19 [==============================] - 0s 1ms/step - loss: 23.9659\n",
            "Epoch 154/500\n",
            "19/19 [==============================] - 0s 1ms/step - loss: 23.9659\n",
            "Epoch 155/500\n",
            "19/19 [==============================] - 0s 1ms/step - loss: 23.9353\n",
            "Epoch 156/500\n",
            "19/19 [==============================] - 0s 1ms/step - loss: 23.9193\n",
            "Epoch 157/500\n",
            "19/19 [==============================] - 0s 1ms/step - loss: 23.8477\n",
            "Epoch 158/500\n",
            "19/19 [==============================] - 0s 1ms/step - loss: 23.7713\n",
            "Epoch 159/500\n",
            "19/19 [==============================] - 0s 1ms/step - loss: 23.7474\n",
            "Epoch 160/500\n",
            "19/19 [==============================] - 0s 1ms/step - loss: 23.8349\n",
            "Epoch 161/500\n",
            "19/19 [==============================] - 0s 1ms/step - loss: 23.7149\n",
            "Epoch 162/500\n",
            "19/19 [==============================] - 0s 1ms/step - loss: 23.7199\n",
            "Epoch 163/500\n",
            "19/19 [==============================] - 0s 1ms/step - loss: 23.7209\n",
            "Epoch 164/500\n",
            "19/19 [==============================] - 0s 1ms/step - loss: 23.6612\n",
            "Epoch 165/500\n",
            "19/19 [==============================] - 0s 993us/step - loss: 23.6882\n",
            "Epoch 166/500\n",
            "19/19 [==============================] - 0s 1ms/step - loss: 23.7029\n",
            "Epoch 167/500\n",
            "19/19 [==============================] - 0s 1ms/step - loss: 23.7983\n",
            "Epoch 168/500\n",
            "19/19 [==============================] - 0s 1ms/step - loss: 23.6496\n",
            "Epoch 169/500\n",
            "19/19 [==============================] - 0s 1ms/step - loss: 23.6560\n",
            "Epoch 170/500\n",
            "19/19 [==============================] - 0s 1ms/step - loss: 23.5759\n",
            "Epoch 171/500\n",
            "19/19 [==============================] - 0s 1ms/step - loss: 23.8051\n",
            "Epoch 172/500\n",
            "19/19 [==============================] - 0s 1ms/step - loss: 23.7621\n",
            "Epoch 173/500\n",
            "19/19 [==============================] - 0s 1ms/step - loss: 23.6345\n",
            "Epoch 174/500\n",
            "19/19 [==============================] - 0s 1ms/step - loss: 23.5621\n",
            "Epoch 175/500\n",
            "19/19 [==============================] - 0s 1ms/step - loss: 23.8584\n",
            "Epoch 176/500\n",
            "19/19 [==============================] - 0s 1ms/step - loss: 23.4976\n",
            "Epoch 177/500\n",
            "19/19 [==============================] - 0s 1ms/step - loss: 23.5448\n",
            "Epoch 178/500\n",
            "19/19 [==============================] - 0s 1ms/step - loss: 23.5150\n",
            "Epoch 179/500\n",
            "19/19 [==============================] - 0s 1ms/step - loss: 23.6965\n",
            "Epoch 180/500\n",
            "19/19 [==============================] - 0s 1ms/step - loss: 23.4394\n",
            "Epoch 181/500\n",
            "19/19 [==============================] - 0s 1ms/step - loss: 23.4835\n",
            "Epoch 182/500\n",
            "19/19 [==============================] - 0s 1ms/step - loss: 23.3977\n",
            "Epoch 183/500\n",
            "19/19 [==============================] - 0s 1ms/step - loss: 23.3566\n",
            "Epoch 184/500\n",
            "19/19 [==============================] - 0s 1ms/step - loss: 23.2664\n",
            "Epoch 185/500\n",
            "19/19 [==============================] - 0s 1ms/step - loss: 23.5826\n",
            "Epoch 186/500\n",
            "19/19 [==============================] - 0s 1ms/step - loss: 23.3670\n",
            "Epoch 187/500\n",
            "19/19 [==============================] - 0s 1ms/step - loss: 23.4751\n",
            "Epoch 188/500\n",
            "19/19 [==============================] - 0s 1ms/step - loss: 23.4778\n",
            "Epoch 189/500\n",
            "19/19 [==============================] - 0s 1ms/step - loss: 23.6907\n",
            "Epoch 190/500\n",
            "19/19 [==============================] - 0s 1ms/step - loss: 23.7841\n",
            "Epoch 191/500\n",
            "19/19 [==============================] - 0s 1ms/step - loss: 23.1019\n",
            "Epoch 192/500\n",
            "19/19 [==============================] - 0s 1ms/step - loss: 23.3455\n",
            "Epoch 193/500\n",
            "19/19 [==============================] - 0s 1ms/step - loss: 23.3348\n",
            "Epoch 194/500\n",
            "19/19 [==============================] - 0s 1ms/step - loss: 23.2895\n",
            "Epoch 195/500\n",
            "19/19 [==============================] - 0s 1ms/step - loss: 23.3470\n",
            "Epoch 196/500\n",
            "19/19 [==============================] - 0s 1ms/step - loss: 23.6876\n",
            "Epoch 197/500\n",
            "19/19 [==============================] - 0s 1ms/step - loss: 23.1051\n",
            "Epoch 198/500\n",
            "19/19 [==============================] - 0s 1ms/step - loss: 23.1648\n",
            "Epoch 199/500\n",
            "19/19 [==============================] - 0s 1ms/step - loss: 23.4934\n",
            "Epoch 200/500\n",
            "19/19 [==============================] - 0s 1ms/step - loss: 23.2813\n",
            "Epoch 201/500\n",
            "19/19 [==============================] - 0s 1ms/step - loss: 23.4892\n",
            "Epoch 202/500\n",
            "19/19 [==============================] - 0s 1ms/step - loss: 23.1046\n",
            "Epoch 203/500\n",
            "19/19 [==============================] - 0s 1ms/step - loss: 23.3308\n",
            "Epoch 204/500\n",
            "19/19 [==============================] - 0s 1ms/step - loss: 23.3736\n",
            "Epoch 205/500\n",
            "19/19 [==============================] - 0s 1ms/step - loss: 23.0813\n",
            "Epoch 206/500\n",
            "19/19 [==============================] - 0s 1ms/step - loss: 23.0792\n",
            "Epoch 207/500\n",
            "19/19 [==============================] - 0s 1ms/step - loss: 23.0948\n",
            "Epoch 208/500\n",
            "19/19 [==============================] - 0s 1ms/step - loss: 23.0965\n",
            "Epoch 209/500\n",
            "19/19 [==============================] - 0s 1ms/step - loss: 23.1375\n",
            "Epoch 210/500\n",
            "19/19 [==============================] - 0s 1ms/step - loss: 23.0477\n",
            "Epoch 211/500\n",
            "19/19 [==============================] - 0s 1ms/step - loss: 23.0304\n",
            "Epoch 212/500\n",
            "19/19 [==============================] - 0s 1ms/step - loss: 23.1517\n",
            "Epoch 213/500\n",
            "19/19 [==============================] - 0s 1ms/step - loss: 23.0036\n",
            "Epoch 214/500\n",
            "19/19 [==============================] - 0s 1ms/step - loss: 23.0885\n",
            "Epoch 215/500\n",
            "19/19 [==============================] - 0s 980us/step - loss: 23.0708\n",
            "Epoch 216/500\n",
            "19/19 [==============================] - 0s 1ms/step - loss: 22.9784\n",
            "Epoch 217/500\n",
            "19/19 [==============================] - 0s 1ms/step - loss: 23.1757\n",
            "Epoch 218/500\n",
            "19/19 [==============================] - 0s 1ms/step - loss: 23.2867\n",
            "Epoch 219/500\n",
            "19/19 [==============================] - 0s 1ms/step - loss: 23.2895\n",
            "Epoch 220/500\n",
            "19/19 [==============================] - 0s 1ms/step - loss: 22.8325\n",
            "Epoch 221/500\n",
            "19/19 [==============================] - 0s 1ms/step - loss: 23.1091\n",
            "Epoch 222/500\n",
            "19/19 [==============================] - 0s 1ms/step - loss: 23.3287\n",
            "Epoch 223/500\n",
            "19/19 [==============================] - 0s 1ms/step - loss: 23.0977\n",
            "Epoch 224/500\n",
            "19/19 [==============================] - 0s 1ms/step - loss: 22.9272\n",
            "Epoch 225/500\n",
            "19/19 [==============================] - 0s 1ms/step - loss: 22.8564\n",
            "Epoch 226/500\n",
            "19/19 [==============================] - 0s 1ms/step - loss: 22.9055\n",
            "Epoch 227/500\n",
            "19/19 [==============================] - 0s 1ms/step - loss: 22.9760\n",
            "Epoch 228/500\n",
            "19/19 [==============================] - 0s 1ms/step - loss: 22.9147\n",
            "Epoch 229/500\n",
            "19/19 [==============================] - 0s 1ms/step - loss: 22.9639\n",
            "Epoch 230/500\n",
            "19/19 [==============================] - 0s 2ms/step - loss: 22.8594\n",
            "Epoch 231/500\n",
            "19/19 [==============================] - 0s 1ms/step - loss: 23.4450\n",
            "Epoch 232/500\n",
            "19/19 [==============================] - 0s 1ms/step - loss: 22.9378\n",
            "Epoch 233/500\n",
            "19/19 [==============================] - 0s 1ms/step - loss: 23.1105\n",
            "Epoch 234/500\n",
            "19/19 [==============================] - 0s 1ms/step - loss: 23.0276\n",
            "Epoch 235/500\n",
            "19/19 [==============================] - 0s 1ms/step - loss: 22.8961\n",
            "Epoch 236/500\n",
            "19/19 [==============================] - 0s 1ms/step - loss: 23.0321\n",
            "Epoch 237/500\n",
            "19/19 [==============================] - 0s 1ms/step - loss: 22.9189\n",
            "Epoch 238/500\n",
            "19/19 [==============================] - 0s 1ms/step - loss: 22.8192\n",
            "Epoch 239/500\n",
            "19/19 [==============================] - 0s 1ms/step - loss: 22.8062\n",
            "Epoch 240/500\n",
            "19/19 [==============================] - 0s 1ms/step - loss: 22.8456\n",
            "Epoch 241/500\n",
            "19/19 [==============================] - 0s 974us/step - loss: 22.8086\n",
            "Epoch 242/500\n",
            "19/19 [==============================] - 0s 1ms/step - loss: 22.7401\n",
            "Epoch 243/500\n",
            "19/19 [==============================] - 0s 1ms/step - loss: 22.7123\n",
            "Epoch 244/500\n",
            "19/19 [==============================] - 0s 1ms/step - loss: 22.8319\n",
            "Epoch 245/500\n",
            "19/19 [==============================] - 0s 1ms/step - loss: 22.8505\n",
            "Epoch 246/500\n",
            "19/19 [==============================] - 0s 1ms/step - loss: 22.7735\n",
            "Epoch 247/500\n",
            "19/19 [==============================] - 0s 1ms/step - loss: 22.8340\n",
            "Epoch 248/500\n",
            "19/19 [==============================] - 0s 1ms/step - loss: 22.6722\n",
            "Epoch 249/500\n",
            "19/19 [==============================] - 0s 1ms/step - loss: 22.8539\n",
            "Epoch 250/500\n",
            "19/19 [==============================] - 0s 1ms/step - loss: 22.7875\n",
            "Epoch 251/500\n",
            "19/19 [==============================] - 0s 1ms/step - loss: 22.6848\n",
            "Epoch 252/500\n",
            "19/19 [==============================] - 0s 1ms/step - loss: 22.7121\n",
            "Epoch 253/500\n",
            "19/19 [==============================] - 0s 1ms/step - loss: 22.8328\n",
            "Epoch 254/500\n",
            "19/19 [==============================] - 0s 1ms/step - loss: 22.5905\n",
            "Epoch 255/500\n",
            "19/19 [==============================] - 0s 1ms/step - loss: 22.7281\n",
            "Epoch 256/500\n",
            "19/19 [==============================] - 0s 1ms/step - loss: 22.8556\n",
            "Epoch 257/500\n",
            "19/19 [==============================] - 0s 989us/step - loss: 22.6380\n",
            "Epoch 258/500\n",
            "19/19 [==============================] - 0s 1ms/step - loss: 22.7339\n",
            "Epoch 259/500\n",
            "19/19 [==============================] - 0s 1ms/step - loss: 22.6134\n",
            "Epoch 260/500\n",
            "19/19 [==============================] - 0s 1ms/step - loss: 22.7008\n",
            "Epoch 261/500\n",
            "19/19 [==============================] - 0s 1ms/step - loss: 22.6125\n",
            "Epoch 262/500\n",
            "19/19 [==============================] - 0s 1ms/step - loss: 22.8089\n",
            "Epoch 263/500\n",
            "19/19 [==============================] - 0s 1ms/step - loss: 22.7016\n",
            "Epoch 264/500\n",
            "19/19 [==============================] - 0s 1ms/step - loss: 22.8632\n",
            "Epoch 265/500\n",
            "19/19 [==============================] - 0s 1ms/step - loss: 22.5309\n",
            "Epoch 266/500\n",
            "19/19 [==============================] - 0s 1ms/step - loss: 22.6721\n",
            "Epoch 267/500\n",
            "19/19 [==============================] - 0s 1ms/step - loss: 22.7055\n",
            "Epoch 268/500\n",
            "19/19 [==============================] - 0s 1ms/step - loss: 22.6281\n",
            "Epoch 269/500\n",
            "19/19 [==============================] - 0s 1ms/step - loss: 22.9070\n",
            "Epoch 270/500\n",
            "19/19 [==============================] - 0s 1ms/step - loss: 22.7871\n",
            "Epoch 271/500\n",
            "19/19 [==============================] - 0s 1ms/step - loss: 22.6047\n",
            "Epoch 272/500\n",
            "19/19 [==============================] - 0s 992us/step - loss: 22.5099\n",
            "Epoch 273/500\n",
            "19/19 [==============================] - 0s 980us/step - loss: 22.6139\n",
            "Epoch 274/500\n",
            "19/19 [==============================] - 0s 1ms/step - loss: 22.5261\n",
            "Epoch 275/500\n",
            "19/19 [==============================] - 0s 1ms/step - loss: 22.8326\n",
            "Epoch 276/500\n",
            "19/19 [==============================] - 0s 1ms/step - loss: 22.4776\n",
            "Epoch 277/500\n",
            "19/19 [==============================] - 0s 1ms/step - loss: 22.7325\n",
            "Epoch 278/500\n",
            "19/19 [==============================] - 0s 1ms/step - loss: 22.7178\n",
            "Epoch 279/500\n",
            "19/19 [==============================] - 0s 1ms/step - loss: 22.7186\n",
            "Epoch 280/500\n",
            "19/19 [==============================] - 0s 1ms/step - loss: 22.8294\n",
            "Epoch 281/500\n",
            "19/19 [==============================] - 0s 1ms/step - loss: 22.6884\n",
            "Epoch 282/500\n",
            "19/19 [==============================] - 0s 1ms/step - loss: 22.6902\n",
            "Epoch 283/500\n",
            "19/19 [==============================] - 0s 1ms/step - loss: 22.8346\n",
            "Epoch 284/500\n",
            "19/19 [==============================] - 0s 1ms/step - loss: 22.5816\n",
            "Epoch 285/500\n",
            "19/19 [==============================] - 0s 1ms/step - loss: 22.6872\n",
            "Epoch 286/500\n",
            "19/19 [==============================] - 0s 1ms/step - loss: 22.5237\n",
            "Epoch 287/500\n",
            "19/19 [==============================] - 0s 1ms/step - loss: 22.4823\n",
            "Epoch 288/500\n",
            "19/19 [==============================] - 0s 1ms/step - loss: 22.4614\n",
            "Epoch 289/500\n",
            "19/19 [==============================] - 0s 1ms/step - loss: 22.5028\n",
            "Epoch 290/500\n",
            "19/19 [==============================] - 0s 1ms/step - loss: 22.6473\n",
            "Epoch 291/500\n",
            "19/19 [==============================] - 0s 1ms/step - loss: 22.4035\n",
            "Epoch 292/500\n",
            "19/19 [==============================] - 0s 1ms/step - loss: 22.7666\n",
            "Epoch 293/500\n",
            "19/19 [==============================] - 0s 1ms/step - loss: 22.3765\n",
            "Epoch 294/500\n",
            "19/19 [==============================] - 0s 1ms/step - loss: 22.4092\n",
            "Epoch 295/500\n",
            "19/19 [==============================] - 0s 1ms/step - loss: 22.6280\n",
            "Epoch 296/500\n",
            "19/19 [==============================] - 0s 2ms/step - loss: 22.4188\n",
            "Epoch 297/500\n",
            "19/19 [==============================] - 0s 1ms/step - loss: 22.4348\n",
            "Epoch 298/500\n",
            "19/19 [==============================] - 0s 1ms/step - loss: 22.6384\n",
            "Epoch 299/500\n",
            "19/19 [==============================] - 0s 1ms/step - loss: 22.5588\n",
            "Epoch 300/500\n",
            "19/19 [==============================] - 0s 1ms/step - loss: 22.3553\n",
            "Epoch 301/500\n",
            "19/19 [==============================] - 0s 1ms/step - loss: 22.4089\n",
            "Epoch 302/500\n",
            "19/19 [==============================] - 0s 1ms/step - loss: 22.3476\n",
            "Epoch 303/500\n",
            "19/19 [==============================] - 0s 1ms/step - loss: 22.4805\n",
            "Epoch 304/500\n",
            "19/19 [==============================] - 0s 1ms/step - loss: 22.4881\n",
            "Epoch 305/500\n",
            "19/19 [==============================] - 0s 1ms/step - loss: 22.3741\n",
            "Epoch 306/500\n",
            "19/19 [==============================] - 0s 1ms/step - loss: 22.3659\n",
            "Epoch 307/500\n",
            "19/19 [==============================] - 0s 1ms/step - loss: 22.5450\n",
            "Epoch 308/500\n",
            "19/19 [==============================] - 0s 1ms/step - loss: 22.8140\n",
            "Epoch 309/500\n",
            "19/19 [==============================] - 0s 1ms/step - loss: 22.4882\n",
            "Epoch 310/500\n",
            "19/19 [==============================] - 0s 1ms/step - loss: 22.3989\n",
            "Epoch 311/500\n",
            "19/19 [==============================] - 0s 1ms/step - loss: 22.3864\n",
            "Epoch 312/500\n",
            "19/19 [==============================] - 0s 1ms/step - loss: 22.4842\n",
            "Epoch 313/500\n",
            "19/19 [==============================] - 0s 1ms/step - loss: 22.3042\n",
            "Epoch 314/500\n",
            "19/19 [==============================] - 0s 1ms/step - loss: 22.7250\n",
            "Epoch 315/500\n",
            "19/19 [==============================] - 0s 1ms/step - loss: 22.2984\n",
            "Epoch 316/500\n",
            "19/19 [==============================] - 0s 1ms/step - loss: 22.3719\n",
            "Epoch 317/500\n",
            "19/19 [==============================] - 0s 1ms/step - loss: 22.3613\n",
            "Epoch 318/500\n",
            "19/19 [==============================] - 0s 1ms/step - loss: 22.3703\n",
            "Epoch 319/500\n",
            "19/19 [==============================] - 0s 1ms/step - loss: 22.4682\n",
            "Epoch 320/500\n",
            "19/19 [==============================] - 0s 1ms/step - loss: 22.2355\n",
            "Epoch 321/500\n",
            "19/19 [==============================] - 0s 997us/step - loss: 22.3443\n",
            "Epoch 322/500\n",
            "19/19 [==============================] - 0s 2ms/step - loss: 22.3418\n",
            "Epoch 323/500\n",
            "19/19 [==============================] - 0s 1ms/step - loss: 22.5110\n",
            "Epoch 324/500\n",
            "19/19 [==============================] - 0s 1ms/step - loss: 22.5244\n",
            "Epoch 325/500\n",
            "19/19 [==============================] - 0s 1ms/step - loss: 22.3136\n",
            "Epoch 326/500\n",
            "19/19 [==============================] - 0s 1ms/step - loss: 22.4742\n",
            "Epoch 327/500\n",
            "19/19 [==============================] - 0s 1ms/step - loss: 22.4062\n",
            "Epoch 328/500\n",
            "19/19 [==============================] - 0s 1ms/step - loss: 22.6558\n",
            "Epoch 329/500\n",
            "19/19 [==============================] - 0s 1ms/step - loss: 22.4575\n",
            "Epoch 330/500\n",
            "19/19 [==============================] - 0s 1ms/step - loss: 22.3766\n",
            "Epoch 331/500\n",
            "19/19 [==============================] - 0s 1ms/step - loss: 22.4817\n",
            "Epoch 332/500\n",
            "19/19 [==============================] - 0s 1ms/step - loss: 22.1694\n",
            "Epoch 333/500\n",
            "19/19 [==============================] - 0s 1ms/step - loss: 22.2030\n",
            "Epoch 334/500\n",
            "19/19 [==============================] - 0s 1ms/step - loss: 22.2200\n",
            "Epoch 335/500\n",
            "19/19 [==============================] - 0s 1ms/step - loss: 22.9136\n",
            "Epoch 336/500\n",
            "19/19 [==============================] - 0s 1ms/step - loss: 22.2958\n",
            "Epoch 337/500\n",
            "19/19 [==============================] - 0s 1ms/step - loss: 22.3164\n",
            "Epoch 338/500\n",
            "19/19 [==============================] - 0s 1ms/step - loss: 22.2265\n",
            "Epoch 339/500\n",
            "19/19 [==============================] - 0s 1ms/step - loss: 22.2533\n",
            "Epoch 340/500\n",
            "19/19 [==============================] - 0s 1ms/step - loss: 22.1965\n",
            "Epoch 341/500\n",
            "19/19 [==============================] - 0s 2ms/step - loss: 22.1608\n",
            "Epoch 342/500\n",
            "19/19 [==============================] - 0s 1ms/step - loss: 22.6097\n",
            "Epoch 343/500\n",
            "19/19 [==============================] - 0s 1ms/step - loss: 22.3881\n",
            "Epoch 344/500\n",
            "19/19 [==============================] - 0s 1ms/step - loss: 22.0504\n",
            "Epoch 345/500\n",
            "19/19 [==============================] - 0s 1ms/step - loss: 22.4826\n",
            "Epoch 346/500\n",
            "19/19 [==============================] - 0s 1ms/step - loss: 22.1913\n",
            "Epoch 347/500\n",
            "19/19 [==============================] - 0s 1ms/step - loss: 22.4776\n",
            "Epoch 348/500\n",
            "19/19 [==============================] - 0s 1ms/step - loss: 22.0342\n",
            "Epoch 349/500\n",
            "19/19 [==============================] - 0s 1ms/step - loss: 22.5292\n",
            "Epoch 350/500\n",
            "19/19 [==============================] - 0s 1ms/step - loss: 22.1675\n",
            "Epoch 351/500\n",
            "19/19 [==============================] - 0s 1ms/step - loss: 22.2834\n",
            "Epoch 352/500\n",
            "19/19 [==============================] - 0s 1ms/step - loss: 22.1380\n",
            "Epoch 353/500\n",
            "19/19 [==============================] - 0s 1ms/step - loss: 22.4575\n",
            "Epoch 354/500\n",
            "19/19 [==============================] - 0s 1ms/step - loss: 22.2178\n",
            "Epoch 355/500\n",
            "19/19 [==============================] - 0s 1ms/step - loss: 22.7272\n",
            "Epoch 356/500\n",
            "19/19 [==============================] - 0s 2ms/step - loss: 22.5808\n",
            "Epoch 357/500\n",
            "19/19 [==============================] - 0s 1ms/step - loss: 22.2470\n",
            "Epoch 358/500\n",
            "19/19 [==============================] - 0s 2ms/step - loss: 22.1623\n",
            "Epoch 359/500\n",
            "19/19 [==============================] - 0s 1ms/step - loss: 22.3590\n",
            "Epoch 360/500\n",
            "19/19 [==============================] - 0s 1ms/step - loss: 22.0096\n",
            "Epoch 361/500\n",
            "19/19 [==============================] - 0s 1ms/step - loss: 22.2206\n",
            "Epoch 362/500\n",
            "19/19 [==============================] - 0s 1ms/step - loss: 22.1437\n",
            "Epoch 363/500\n",
            "19/19 [==============================] - 0s 2ms/step - loss: 22.3042\n",
            "Epoch 364/500\n",
            "19/19 [==============================] - 0s 2ms/step - loss: 22.1984\n",
            "Epoch 365/500\n",
            "19/19 [==============================] - 0s 1ms/step - loss: 22.1796\n",
            "Epoch 366/500\n",
            "19/19 [==============================] - 0s 1ms/step - loss: 22.1885\n",
            "Epoch 367/500\n",
            "19/19 [==============================] - 0s 1ms/step - loss: 22.4303\n",
            "Epoch 368/500\n",
            "19/19 [==============================] - 0s 2ms/step - loss: 22.2971\n",
            "Epoch 369/500\n",
            "19/19 [==============================] - 0s 1ms/step - loss: 22.1419\n",
            "Epoch 370/500\n",
            "19/19 [==============================] - 0s 1ms/step - loss: 22.0268\n",
            "Epoch 371/500\n",
            "19/19 [==============================] - 0s 2ms/step - loss: 22.1722\n",
            "Epoch 372/500\n",
            "19/19 [==============================] - 0s 2ms/step - loss: 22.1526\n",
            "Epoch 373/500\n",
            "19/19 [==============================] - 0s 1ms/step - loss: 22.0686\n",
            "Epoch 374/500\n",
            "19/19 [==============================] - 0s 1ms/step - loss: 22.0551\n",
            "Epoch 375/500\n",
            "19/19 [==============================] - 0s 1ms/step - loss: 22.1936\n",
            "Epoch 376/500\n",
            "19/19 [==============================] - 0s 1ms/step - loss: 22.3017\n",
            "Epoch 377/500\n",
            "19/19 [==============================] - 0s 1ms/step - loss: 22.2144\n",
            "Epoch 378/500\n",
            "19/19 [==============================] - 0s 1ms/step - loss: 22.0712\n",
            "Epoch 379/500\n",
            "19/19 [==============================] - 0s 2ms/step - loss: 22.3100\n",
            "Epoch 380/500\n",
            "19/19 [==============================] - 0s 1ms/step - loss: 22.1382\n",
            "Epoch 381/500\n",
            "19/19 [==============================] - 0s 1ms/step - loss: 22.0706\n",
            "Epoch 382/500\n",
            "19/19 [==============================] - 0s 1ms/step - loss: 22.1477\n",
            "Epoch 383/500\n",
            "19/19 [==============================] - 0s 1ms/step - loss: 22.4230\n",
            "Epoch 384/500\n",
            "19/19 [==============================] - 0s 1ms/step - loss: 22.5737\n",
            "Epoch 385/500\n",
            "19/19 [==============================] - 0s 1ms/step - loss: 22.3257\n",
            "Epoch 386/500\n",
            "19/19 [==============================] - 0s 1ms/step - loss: 21.9680\n",
            "Epoch 387/500\n",
            "19/19 [==============================] - 0s 2ms/step - loss: 22.0756\n",
            "Epoch 388/500\n",
            "19/19 [==============================] - 0s 1ms/step - loss: 22.0410\n",
            "Epoch 389/500\n",
            "19/19 [==============================] - 0s 1ms/step - loss: 22.1824\n",
            "Epoch 390/500\n",
            "19/19 [==============================] - 0s 1ms/step - loss: 22.2050\n",
            "Epoch 391/500\n",
            "19/19 [==============================] - 0s 1ms/step - loss: 22.3197\n",
            "Epoch 392/500\n",
            "19/19 [==============================] - 0s 1ms/step - loss: 22.0639\n",
            "Epoch 393/500\n",
            "19/19 [==============================] - 0s 2ms/step - loss: 21.9433\n",
            "Epoch 394/500\n",
            "19/19 [==============================] - 0s 1ms/step - loss: 22.0131\n",
            "Epoch 395/500\n",
            "19/19 [==============================] - 0s 2ms/step - loss: 22.1746\n",
            "Epoch 396/500\n",
            "19/19 [==============================] - 0s 1ms/step - loss: 22.0137\n",
            "Epoch 397/500\n",
            "19/19 [==============================] - 0s 1ms/step - loss: 22.1663\n",
            "Epoch 398/500\n",
            "19/19 [==============================] - 0s 1ms/step - loss: 22.0923\n",
            "Epoch 399/500\n",
            "19/19 [==============================] - 0s 1ms/step - loss: 22.2485\n",
            "Epoch 400/500\n",
            "19/19 [==============================] - 0s 1ms/step - loss: 22.1058\n",
            "Epoch 401/500\n",
            "19/19 [==============================] - 0s 1ms/step - loss: 22.1266\n",
            "Epoch 402/500\n",
            "19/19 [==============================] - 0s 1ms/step - loss: 21.9600\n",
            "Epoch 403/500\n",
            "19/19 [==============================] - 0s 1ms/step - loss: 21.9258\n",
            "Epoch 404/500\n",
            "19/19 [==============================] - 0s 1ms/step - loss: 22.0884\n",
            "Epoch 405/500\n",
            "19/19 [==============================] - 0s 1ms/step - loss: 21.9882\n",
            "Epoch 406/500\n",
            "19/19 [==============================] - 0s 1ms/step - loss: 21.9924\n",
            "Epoch 407/500\n",
            "19/19 [==============================] - 0s 1ms/step - loss: 21.9990\n",
            "Epoch 408/500\n",
            "19/19 [==============================] - 0s 1ms/step - loss: 22.1338\n",
            "Epoch 409/500\n",
            "19/19 [==============================] - 0s 1ms/step - loss: 21.9607\n",
            "Epoch 410/500\n",
            "19/19 [==============================] - 0s 2ms/step - loss: 21.9912\n",
            "Epoch 411/500\n",
            "19/19 [==============================] - 0s 1ms/step - loss: 22.3155\n",
            "Epoch 412/500\n",
            "19/19 [==============================] - 0s 1ms/step - loss: 22.1881\n",
            "Epoch 413/500\n",
            "19/19 [==============================] - 0s 1ms/step - loss: 22.3094\n",
            "Epoch 414/500\n",
            "19/19 [==============================] - 0s 1ms/step - loss: 21.8830\n",
            "Epoch 415/500\n",
            "19/19 [==============================] - 0s 1ms/step - loss: 21.9576\n",
            "Epoch 416/500\n",
            "19/19 [==============================] - 0s 1ms/step - loss: 21.9250\n",
            "Epoch 417/500\n",
            "19/19 [==============================] - 0s 1ms/step - loss: 21.9382\n",
            "Epoch 418/500\n",
            "19/19 [==============================] - 0s 1ms/step - loss: 21.9450\n",
            "Epoch 419/500\n",
            "19/19 [==============================] - 0s 1ms/step - loss: 21.8726\n",
            "Epoch 420/500\n",
            "19/19 [==============================] - 0s 2ms/step - loss: 22.0421\n",
            "Epoch 421/500\n",
            "19/19 [==============================] - 0s 1ms/step - loss: 21.9373\n",
            "Epoch 422/500\n",
            "19/19 [==============================] - 0s 1ms/step - loss: 21.9911\n",
            "Epoch 423/500\n",
            "19/19 [==============================] - 0s 2ms/step - loss: 22.0002\n",
            "Epoch 424/500\n",
            "19/19 [==============================] - 0s 1ms/step - loss: 22.2554\n",
            "Epoch 425/500\n",
            "19/19 [==============================] - 0s 1ms/step - loss: 21.8346\n",
            "Epoch 426/500\n",
            "19/19 [==============================] - 0s 1ms/step - loss: 21.9158\n",
            "Epoch 427/500\n",
            "19/19 [==============================] - 0s 1ms/step - loss: 21.9662\n",
            "Epoch 428/500\n",
            "19/19 [==============================] - 0s 1ms/step - loss: 21.9166\n",
            "Epoch 429/500\n",
            "19/19 [==============================] - 0s 1ms/step - loss: 22.0154\n",
            "Epoch 430/500\n",
            "19/19 [==============================] - 0s 1ms/step - loss: 21.8090\n",
            "Epoch 431/500\n",
            "19/19 [==============================] - 0s 2ms/step - loss: 21.8866\n",
            "Epoch 432/500\n",
            "19/19 [==============================] - 0s 1ms/step - loss: 22.0448\n",
            "Epoch 433/500\n",
            "19/19 [==============================] - 0s 1ms/step - loss: 21.8352\n",
            "Epoch 434/500\n",
            "19/19 [==============================] - 0s 1ms/step - loss: 22.0488\n",
            "Epoch 435/500\n",
            "19/19 [==============================] - 0s 1ms/step - loss: 22.0162\n",
            "Epoch 436/500\n",
            "19/19 [==============================] - 0s 1ms/step - loss: 21.8749\n",
            "Epoch 437/500\n",
            "19/19 [==============================] - 0s 1ms/step - loss: 21.9312\n",
            "Epoch 438/500\n",
            "19/19 [==============================] - 0s 1ms/step - loss: 21.9610\n",
            "Epoch 439/500\n",
            "19/19 [==============================] - 0s 1ms/step - loss: 22.0738\n",
            "Epoch 440/500\n",
            "19/19 [==============================] - 0s 1ms/step - loss: 22.3280\n",
            "Epoch 441/500\n",
            "19/19 [==============================] - 0s 1ms/step - loss: 21.6780\n",
            "Epoch 442/500\n",
            "19/19 [==============================] - 0s 2ms/step - loss: 22.0382\n",
            "Epoch 443/500\n",
            "19/19 [==============================] - 0s 1ms/step - loss: 21.9052\n",
            "Epoch 444/500\n",
            "19/19 [==============================] - 0s 1ms/step - loss: 22.2013\n",
            "Epoch 445/500\n",
            "19/19 [==============================] - 0s 1ms/step - loss: 21.9093\n",
            "Epoch 446/500\n",
            "19/19 [==============================] - 0s 1ms/step - loss: 21.9211\n",
            "Epoch 447/500\n",
            "19/19 [==============================] - 0s 1ms/step - loss: 21.8960\n",
            "Epoch 448/500\n",
            "19/19 [==============================] - 0s 1ms/step - loss: 22.0120\n",
            "Epoch 449/500\n",
            "19/19 [==============================] - 0s 1ms/step - loss: 21.7870\n",
            "Epoch 450/500\n",
            "19/19 [==============================] - 0s 1ms/step - loss: 22.0793\n",
            "Epoch 451/500\n",
            "19/19 [==============================] - 0s 1ms/step - loss: 22.0739\n",
            "Epoch 452/500\n",
            "19/19 [==============================] - 0s 1ms/step - loss: 22.5978\n",
            "Epoch 453/500\n",
            "19/19 [==============================] - 0s 1ms/step - loss: 21.9060\n",
            "Epoch 454/500\n",
            "19/19 [==============================] - 0s 2ms/step - loss: 21.9373\n",
            "Epoch 455/500\n",
            "19/19 [==============================] - 0s 1ms/step - loss: 21.8261\n",
            "Epoch 456/500\n",
            "19/19 [==============================] - 0s 1ms/step - loss: 21.8954\n",
            "Epoch 457/500\n",
            "19/19 [==============================] - 0s 1ms/step - loss: 21.8320\n",
            "Epoch 458/500\n",
            "19/19 [==============================] - 0s 1ms/step - loss: 21.9637\n",
            "Epoch 459/500\n",
            "19/19 [==============================] - 0s 1ms/step - loss: 22.0784\n",
            "Epoch 460/500\n",
            "19/19 [==============================] - 0s 1ms/step - loss: 21.9253\n",
            "Epoch 461/500\n",
            "19/19 [==============================] - 0s 2ms/step - loss: 21.8542\n",
            "Epoch 462/500\n",
            "19/19 [==============================] - 0s 1ms/step - loss: 21.8427\n",
            "Epoch 463/500\n",
            "19/19 [==============================] - 0s 1ms/step - loss: 21.7150\n",
            "Epoch 464/500\n",
            "19/19 [==============================] - 0s 2ms/step - loss: 22.0775\n",
            "Epoch 465/500\n",
            "19/19 [==============================] - 0s 1ms/step - loss: 21.8485\n",
            "Epoch 466/500\n",
            "19/19 [==============================] - 0s 1ms/step - loss: 21.8146\n",
            "Epoch 467/500\n",
            "19/19 [==============================] - 0s 1ms/step - loss: 21.7791\n",
            "Epoch 468/500\n",
            "19/19 [==============================] - 0s 1ms/step - loss: 21.7290\n",
            "Epoch 469/500\n",
            "19/19 [==============================] - 0s 1ms/step - loss: 21.7393\n",
            "Epoch 470/500\n",
            "19/19 [==============================] - 0s 1ms/step - loss: 21.7914\n",
            "Epoch 471/500\n",
            "19/19 [==============================] - 0s 1ms/step - loss: 21.8918\n",
            "Epoch 472/500\n",
            "19/19 [==============================] - 0s 1ms/step - loss: 21.7305\n",
            "Epoch 473/500\n",
            "19/19 [==============================] - 0s 1ms/step - loss: 21.7750\n",
            "Epoch 474/500\n",
            "19/19 [==============================] - 0s 2ms/step - loss: 21.8940\n",
            "Epoch 475/500\n",
            "19/19 [==============================] - 0s 1ms/step - loss: 21.6892\n",
            "Epoch 476/500\n",
            "19/19 [==============================] - 0s 1ms/step - loss: 21.6924\n",
            "Epoch 477/500\n",
            "19/19 [==============================] - 0s 1ms/step - loss: 21.7413\n",
            "Epoch 478/500\n",
            "19/19 [==============================] - 0s 1ms/step - loss: 21.6660\n",
            "Epoch 479/500\n",
            "19/19 [==============================] - 0s 1ms/step - loss: 21.8869\n",
            "Epoch 480/500\n",
            "19/19 [==============================] - 0s 1ms/step - loss: 21.7084\n",
            "Epoch 481/500\n",
            "19/19 [==============================] - 0s 1ms/step - loss: 21.7236\n",
            "Epoch 482/500\n",
            "19/19 [==============================] - 0s 1ms/step - loss: 21.6710\n",
            "Epoch 483/500\n",
            "19/19 [==============================] - 0s 1ms/step - loss: 21.8152\n",
            "Epoch 484/500\n",
            "19/19 [==============================] - 0s 1ms/step - loss: 21.6765\n",
            "Epoch 485/500\n",
            "19/19 [==============================] - 0s 1ms/step - loss: 21.6318\n",
            "Epoch 486/500\n",
            "19/19 [==============================] - 0s 2ms/step - loss: 21.7025\n",
            "Epoch 487/500\n",
            "19/19 [==============================] - 0s 2ms/step - loss: 21.6323\n",
            "Epoch 488/500\n",
            "19/19 [==============================] - 0s 1ms/step - loss: 21.7260\n",
            "Epoch 489/500\n",
            "19/19 [==============================] - 0s 1ms/step - loss: 21.8435\n",
            "Epoch 490/500\n",
            "19/19 [==============================] - 0s 1ms/step - loss: 21.7157\n",
            "Epoch 491/500\n",
            "19/19 [==============================] - 0s 1ms/step - loss: 21.7919\n",
            "Epoch 492/500\n",
            "19/19 [==============================] - 0s 1ms/step - loss: 21.7837\n",
            "Epoch 493/500\n",
            "19/19 [==============================] - 0s 2ms/step - loss: 21.6405\n",
            "Epoch 494/500\n",
            "19/19 [==============================] - 0s 1ms/step - loss: 21.7554\n",
            "Epoch 495/500\n",
            "19/19 [==============================] - 0s 1ms/step - loss: 22.2274\n",
            "Epoch 496/500\n",
            "19/19 [==============================] - 0s 1ms/step - loss: 22.1772\n",
            "Epoch 497/500\n",
            "19/19 [==============================] - 0s 1ms/step - loss: 21.8433\n",
            "Epoch 498/500\n",
            "19/19 [==============================] - 0s 1ms/step - loss: 21.6655\n",
            "Epoch 499/500\n",
            "19/19 [==============================] - 0s 1ms/step - loss: 21.6776\n",
            "Epoch 500/500\n",
            "19/19 [==============================] - 0s 1ms/step - loss: 21.7382\n"
          ],
          "name": "stdout"
        },
        {
          "output_type": "execute_result",
          "data": {
            "text/plain": [
              "<tensorflow.python.keras.callbacks.History at 0x7fa168645c88>"
            ]
          },
          "metadata": {
            "tags": []
          },
          "execution_count": 240
        }
      ]
    },
    {
      "cell_type": "code",
      "metadata": {
        "id": "aCEHqOcKSvV4",
        "outputId": "0cf71b97-2319-4540-97f8-1b5289ede326",
        "colab": {
          "base_uri": "https://localhost:8080/",
          "height": 54
        }
      },
      "source": [
        "y_pred = model.predict(X_test)"
      ],
      "execution_count": null,
      "outputs": [
        {
          "output_type": "stream",
          "text": [
            "WARNING:tensorflow:5 out of the last 16 calls to <function Model.make_predict_function.<locals>.predict_function at 0x7fa164314d90> triggered tf.function retracing. Tracing is expensive and the excessive number of tracings could be due to (1) creating @tf.function repeatedly in a loop, (2) passing tensors with different shapes, (3) passing Python objects instead of tensors. For (1), please define your @tf.function outside of the loop. For (2), @tf.function has experimental_relax_shapes=True option that relaxes argument shapes that can avoid unnecessary retracing. For (3), please refer to https://www.tensorflow.org/tutorials/customization/performance#python_or_tensor_args and https://www.tensorflow.org/api_docs/python/tf/function for  more details.\n"
          ],
          "name": "stdout"
        }
      ]
    },
    {
      "cell_type": "code",
      "metadata": {
        "id": "AjTyTBZVSxiZ",
        "outputId": "f1cba19f-093e-4d2c-b566-a7f29066b69f",
        "colab": {
          "base_uri": "https://localhost:8080/",
          "height": 68
        }
      },
      "source": [
        "print('Mean Absolute Error:', metrics.mean_absolute_error(y_test, y_pred))  \n",
        "print('Mean Squared Error:', metrics.mean_squared_error(y_test, y_pred))  \n",
        "print('Root Mean Squared Error:', np.sqrt(metrics.mean_squared_error(y_test, y_pred)))"
      ],
      "execution_count": null,
      "outputs": [
        {
          "output_type": "stream",
          "text": [
            "Mean Absolute Error: 2.6591719267889857\n",
            "Mean Squared Error: 16.88821870785468\n",
            "Root Mean Squared Error: 4.109527796213901\n"
          ],
          "name": "stdout"
        }
      ]
    },
    {
      "cell_type": "code",
      "metadata": {
        "id": "OlyrYko4S1Ex",
        "outputId": "5de5981d-8646-406a-b2b5-68614b210c1d",
        "colab": {
          "base_uri": "https://localhost:8080/",
          "height": 313
        }
      },
      "source": [
        "lr_graph = sns.regplot(x=y_test, y=y_pred, truncate=False)\n",
        "lr_graph.set(xlabel=\"Measured\", ylabel = \"Predicted\")\n",
        "lr_graph.set_title('ANN Regression', fontsize=14)"
      ],
      "execution_count": null,
      "outputs": [
        {
          "output_type": "execute_result",
          "data": {
            "text/plain": [
              "Text(0.5, 1.0, 'ANN Regression')"
            ]
          },
          "metadata": {
            "tags": []
          },
          "execution_count": 243
        },
        {
          "output_type": "display_data",
          "data": {
            "image/png": "[encoded data removed]",
            "text/plain": [
              "<Figure size 432x288 with 1 Axes>"
            ]
          },
          "metadata": {
            "tags": []
          }
        }
      ]
    },
    {
      "cell_type": "code",
      "metadata": {
        "id": "WiUVFISAiHDt"
      },
      "source": [
        ""
      ],
      "execution_count": null,
      "outputs": []
    }
  ]
}